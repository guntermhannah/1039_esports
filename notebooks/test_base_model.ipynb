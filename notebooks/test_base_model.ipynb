{
 "cells": [
  {
   "cell_type": "code",
   "execution_count": 128,
   "metadata": {},
   "outputs": [],
   "source": [
    "import pandas as pd\n",
    "import os\n",
    "import numpy as np\n",
    "from sklearn.metrics import accuracy_score\n",
    "\n",
    "def get_player_ratio(account_id:int)->float:\n",
    "\n",
    "    # Get the data for player_pairs and wl_data\n",
    "    df_wl = pd.read_csv(os.path.join('data', 'wl_data.csv'))\n",
    "    \n",
    "    ###\n",
    "    #row = df_wl[df_wl['account_id'] == account_id]\n",
    "    #print(int(row['total']))\n",
    "\n",
    "    df_wl = df_wl[df_wl['total'] != 0]\n",
    "    df_wl.drop_duplicates(subset=['account_id'], inplace=True)\n",
    "    \n",
    "    # Check if account_id is in the wl_data.csv\n",
    "    if account_id in df_wl['account_id'].values:\n",
    "        # Find that row\n",
    "        row = df_wl[df_wl['account_id'] == account_id]\n",
    "        # Calculate ratio\n",
    "        ratio = int(row['wins']) / int(row['total'])\n",
    "        return ratio\n",
    "\n",
    "    # Return -1.0 value if not found in csv\n",
    "    return -1.0"
   ]
  },
  {
   "cell_type": "code",
   "execution_count": 130,
   "metadata": {},
   "outputs": [
    {
     "data": {
      "text/plain": [
       "0.5426278836509528"
      ]
     },
     "execution_count": 130,
     "metadata": {},
     "output_type": "execute_result"
    }
   ],
   "source": [
    "(get_player_ratio(380663148))"
   ]
  },
  {
   "cell_type": "code",
   "execution_count": 132,
   "metadata": {},
   "outputs": [],
   "source": [
    "\n",
    "def column_e():\n",
    "\n",
    "    df_pairs = pd.read_csv(os.path.join('data', 'player_pairs.csv'))\n",
    "    \n",
    "    # y_pred = if player wins\n",
    "    y_pred = []\n",
    "    y_true = []\n",
    "    \n",
    "    #player_list = []\n",
    "    #opponent_list = []\n",
    "\n",
    "    for row in range(0, len(df_pairs)):\n",
    "\n",
    "        # Get the account_id of player and opponent \n",
    "        player_id = int(df_pairs['player'][row])\n",
    "        opponent_id = int(df_pairs['opponent'][row])\n",
    "        winner_id = int(df_pairs['winner'][row])\n",
    "\n",
    "        # Get the ratios of each player\n",
    "        player_ratio = get_player_ratio(player_id)\n",
    "        opponent_ratio = get_player_ratio(opponent_id)\n",
    "        \n",
    "        #player_list.append(player_ratio)\n",
    "        #opponent_list.append(opponent_ratio)\n",
    "        #test = pd.DataFrame({'players': player_list, 'opponents':opponent_list})\n",
    "\n",
    "        # Find prediction only if both players have ratio from wl_data\n",
    "        if (player_ratio > 0) and (opponent_ratio > 0):\n",
    "            \n",
    "            # Determine if player won\n",
    "            if (player_ratio > opponent_ratio):\n",
    "                y_pred.append(1)\n",
    "            else:\n",
    "                y_pred.append(0)\n",
    "\n",
    "            if (player_id == winner_id):\n",
    "                y_true.append(1)\n",
    "            else:\n",
    "                y_true.append(0)\n",
    "\n",
    "        else:\n",
    "            pass   \n",
    "    \n",
    "    # Determine accuary\n",
    "    accuracy = accuracy_score(y_true, y_pred)\n",
    "    \n",
    "    return accuracy\n",
    "    "
   ]
  },
  {
   "cell_type": "code",
   "execution_count": 133,
   "metadata": {},
   "outputs": [
    {
     "data": {
      "text/plain": [
       "0.5619469026548672"
      ]
     },
     "execution_count": 133,
     "metadata": {},
     "output_type": "execute_result"
    }
   ],
   "source": [
    "column_e()"
   ]
  },
  {
   "cell_type": "code",
   "execution_count": 123,
   "metadata": {},
   "outputs": [
    {
     "data": {
      "text/html": [
       "<div>\n",
       "<style scoped>\n",
       "    .dataframe tbody tr th:only-of-type {\n",
       "        vertical-align: middle;\n",
       "    }\n",
       "\n",
       "    .dataframe tbody tr th {\n",
       "        vertical-align: top;\n",
       "    }\n",
       "\n",
       "    .dataframe thead th {\n",
       "        text-align: right;\n",
       "    }\n",
       "</style>\n",
       "<table border=\"1\" class=\"dataframe\">\n",
       "  <thead>\n",
       "    <tr style=\"text-align: right;\">\n",
       "      <th></th>\n",
       "      <th>players</th>\n",
       "      <th>opponents</th>\n",
       "    </tr>\n",
       "  </thead>\n",
       "  <tbody>\n",
       "    <tr>\n",
       "      <th>0</th>\n",
       "      <td>0.522078</td>\n",
       "      <td>0.493081</td>\n",
       "    </tr>\n",
       "    <tr>\n",
       "      <th>2</th>\n",
       "      <td>0.536765</td>\n",
       "      <td>0.447464</td>\n",
       "    </tr>\n",
       "    <tr>\n",
       "      <th>3</th>\n",
       "      <td>0.384127</td>\n",
       "      <td>0.518908</td>\n",
       "    </tr>\n",
       "    <tr>\n",
       "      <th>4</th>\n",
       "      <td>0.541912</td>\n",
       "      <td>0.613036</td>\n",
       "    </tr>\n",
       "    <tr>\n",
       "      <th>5</th>\n",
       "      <td>0.468886</td>\n",
       "      <td>0.489679</td>\n",
       "    </tr>\n",
       "    <tr>\n",
       "      <th>...</th>\n",
       "      <td>...</td>\n",
       "      <td>...</td>\n",
       "    </tr>\n",
       "    <tr>\n",
       "      <th>255</th>\n",
       "      <td>0.499893</td>\n",
       "      <td>0.514220</td>\n",
       "    </tr>\n",
       "    <tr>\n",
       "      <th>263</th>\n",
       "      <td>0.524183</td>\n",
       "      <td>0.455446</td>\n",
       "    </tr>\n",
       "    <tr>\n",
       "      <th>304</th>\n",
       "      <td>0.481818</td>\n",
       "      <td>0.444805</td>\n",
       "    </tr>\n",
       "    <tr>\n",
       "      <th>323</th>\n",
       "      <td>0.523884</td>\n",
       "      <td>0.554817</td>\n",
       "    </tr>\n",
       "    <tr>\n",
       "      <th>10647</th>\n",
       "      <td>0.551253</td>\n",
       "      <td>0.528352</td>\n",
       "    </tr>\n",
       "  </tbody>\n",
       "</table>\n",
       "<p>226 rows × 2 columns</p>\n",
       "</div>"
      ],
      "text/plain": [
       "        players  opponents\n",
       "0      0.522078   0.493081\n",
       "2      0.536765   0.447464\n",
       "3      0.384127   0.518908\n",
       "4      0.541912   0.613036\n",
       "5      0.468886   0.489679\n",
       "...         ...        ...\n",
       "255    0.499893   0.514220\n",
       "263    0.524183   0.455446\n",
       "304    0.481818   0.444805\n",
       "323    0.523884   0.554817\n",
       "10647  0.551253   0.528352\n",
       "\n",
       "[226 rows x 2 columns]"
      ]
     },
     "execution_count": 123,
     "metadata": {},
     "output_type": "execute_result"
    }
   ],
   "source": [
    "df_res = column_e()\n",
    "df_res = df_res[(df_res['players'] > 0) & (df_res['opponents'] > 0)]\n",
    "df_res"
   ]
  },
  {
   "cell_type": "code",
   "execution_count": null,
   "metadata": {},
   "outputs": [],
   "source": []
  }
 ],
 "metadata": {
  "kernelspec": {
   "display_name": "Python 3.8.12 64-bit ('shims')",
   "language": "python",
   "name": "python3"
  },
  "language_info": {
   "codemirror_mode": {
    "name": "ipython",
    "version": 3
   },
   "file_extension": ".py",
   "mimetype": "text/x-python",
   "name": "python",
   "nbconvert_exporter": "python",
   "pygments_lexer": "ipython3",
   "version": "3.8.12"
  },
  "orig_nbformat": 4,
  "vscode": {
   "interpreter": {
    "hash": "fd498f36827ce95281e2f959e9eb418ce4c42147d2fcb517ba54b004c75bf673"
   }
  }
 },
 "nbformat": 4,
 "nbformat_minor": 2
}
