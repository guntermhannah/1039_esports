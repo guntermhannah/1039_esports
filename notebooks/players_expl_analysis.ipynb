{
 "cells": [
  {
   "cell_type": "code",
   "execution_count": 1,
   "id": "d9ef3474",
   "metadata": {},
   "outputs": [],
   "source": [
    "import pandas as pd\n",
    "import seaborn as sns"
   ]
  },
  {
   "cell_type": "code",
   "execution_count": 2,
   "id": "94ef7506",
   "metadata": {},
   "outputs": [
    {
     "data": {
      "text/html": [
       "<div>\n",
       "<style scoped>\n",
       "    .dataframe tbody tr th:only-of-type {\n",
       "        vertical-align: middle;\n",
       "    }\n",
       "\n",
       "    .dataframe tbody tr th {\n",
       "        vertical-align: top;\n",
       "    }\n",
       "\n",
       "    .dataframe thead th {\n",
       "        text-align: right;\n",
       "    }\n",
       "</style>\n",
       "<table border=\"1\" class=\"dataframe\">\n",
       "  <thead>\n",
       "    <tr style=\"text-align: right;\">\n",
       "      <th></th>\n",
       "      <th>match_id</th>\n",
       "      <th>hero_id</th>\n",
       "      <th>account_id</th>\n",
       "      <th>net_worth</th>\n",
       "      <th>kills</th>\n",
       "      <th>deaths</th>\n",
       "      <th>hero_damage</th>\n",
       "      <th>gold_per_min</th>\n",
       "      <th>assists</th>\n",
       "      <th>xp_per_min</th>\n",
       "      <th>last_hits</th>\n",
       "      <th>tower_damage</th>\n",
       "      <th>obs_placed</th>\n",
       "      <th>roshans_killed</th>\n",
       "      <th>isRadiant</th>\n",
       "      <th>win</th>\n",
       "    </tr>\n",
       "  </thead>\n",
       "  <tbody>\n",
       "    <tr>\n",
       "      <th>0</th>\n",
       "      <td>6880961402</td>\n",
       "      <td>18</td>\n",
       "      <td>1.061968e+09</td>\n",
       "      <td>6055</td>\n",
       "      <td>0</td>\n",
       "      <td>1</td>\n",
       "      <td>1737</td>\n",
       "      <td>582</td>\n",
       "      <td>8</td>\n",
       "      <td>546</td>\n",
       "      <td>56</td>\n",
       "      <td>9408</td>\n",
       "      <td>NaN</td>\n",
       "      <td>NaN</td>\n",
       "      <td>True</td>\n",
       "      <td>1</td>\n",
       "    </tr>\n",
       "    <tr>\n",
       "      <th>1</th>\n",
       "      <td>6880961402</td>\n",
       "      <td>67</td>\n",
       "      <td>3.806631e+08</td>\n",
       "      <td>5183</td>\n",
       "      <td>6</td>\n",
       "      <td>1</td>\n",
       "      <td>2497</td>\n",
       "      <td>488</td>\n",
       "      <td>1</td>\n",
       "      <td>316</td>\n",
       "      <td>40</td>\n",
       "      <td>1205</td>\n",
       "      <td>NaN</td>\n",
       "      <td>NaN</td>\n",
       "      <td>True</td>\n",
       "      <td>1</td>\n",
       "    </tr>\n",
       "    <tr>\n",
       "      <th>2</th>\n",
       "      <td>6880961402</td>\n",
       "      <td>87</td>\n",
       "      <td>1.677427e+08</td>\n",
       "      <td>3941</td>\n",
       "      <td>0</td>\n",
       "      <td>1</td>\n",
       "      <td>792</td>\n",
       "      <td>369</td>\n",
       "      <td>6</td>\n",
       "      <td>216</td>\n",
       "      <td>35</td>\n",
       "      <td>0</td>\n",
       "      <td>NaN</td>\n",
       "      <td>NaN</td>\n",
       "      <td>True</td>\n",
       "      <td>1</td>\n",
       "    </tr>\n",
       "    <tr>\n",
       "      <th>3</th>\n",
       "      <td>6880961402</td>\n",
       "      <td>32</td>\n",
       "      <td>1.648819e+08</td>\n",
       "      <td>3908</td>\n",
       "      <td>3</td>\n",
       "      <td>1</td>\n",
       "      <td>1379</td>\n",
       "      <td>360</td>\n",
       "      <td>3</td>\n",
       "      <td>257</td>\n",
       "      <td>22</td>\n",
       "      <td>469</td>\n",
       "      <td>NaN</td>\n",
       "      <td>NaN</td>\n",
       "      <td>True</td>\n",
       "      <td>1</td>\n",
       "    </tr>\n",
       "    <tr>\n",
       "      <th>4</th>\n",
       "      <td>6880961402</td>\n",
       "      <td>8</td>\n",
       "      <td>2.909714e+08</td>\n",
       "      <td>4478</td>\n",
       "      <td>1</td>\n",
       "      <td>1</td>\n",
       "      <td>2633</td>\n",
       "      <td>411</td>\n",
       "      <td>6</td>\n",
       "      <td>338</td>\n",
       "      <td>34</td>\n",
       "      <td>264</td>\n",
       "      <td>NaN</td>\n",
       "      <td>NaN</td>\n",
       "      <td>True</td>\n",
       "      <td>1</td>\n",
       "    </tr>\n",
       "    <tr>\n",
       "      <th>...</th>\n",
       "      <td>...</td>\n",
       "      <td>...</td>\n",
       "      <td>...</td>\n",
       "      <td>...</td>\n",
       "      <td>...</td>\n",
       "      <td>...</td>\n",
       "      <td>...</td>\n",
       "      <td>...</td>\n",
       "      <td>...</td>\n",
       "      <td>...</td>\n",
       "      <td>...</td>\n",
       "      <td>...</td>\n",
       "      <td>...</td>\n",
       "      <td>...</td>\n",
       "      <td>...</td>\n",
       "      <td>...</td>\n",
       "    </tr>\n",
       "    <tr>\n",
       "      <th>29975</th>\n",
       "      <td>6880986017</td>\n",
       "      <td>20</td>\n",
       "      <td>NaN</td>\n",
       "      <td>4267</td>\n",
       "      <td>2</td>\n",
       "      <td>11</td>\n",
       "      <td>9727</td>\n",
       "      <td>198</td>\n",
       "      <td>5</td>\n",
       "      <td>328</td>\n",
       "      <td>26</td>\n",
       "      <td>17</td>\n",
       "      <td>NaN</td>\n",
       "      <td>NaN</td>\n",
       "      <td>False</td>\n",
       "      <td>0</td>\n",
       "    </tr>\n",
       "    <tr>\n",
       "      <th>29976</th>\n",
       "      <td>6880986017</td>\n",
       "      <td>6</td>\n",
       "      <td>2.322550e+08</td>\n",
       "      <td>11709</td>\n",
       "      <td>2</td>\n",
       "      <td>8</td>\n",
       "      <td>16769</td>\n",
       "      <td>441</td>\n",
       "      <td>2</td>\n",
       "      <td>508</td>\n",
       "      <td>249</td>\n",
       "      <td>0</td>\n",
       "      <td>NaN</td>\n",
       "      <td>NaN</td>\n",
       "      <td>False</td>\n",
       "      <td>0</td>\n",
       "    </tr>\n",
       "    <tr>\n",
       "      <th>29977</th>\n",
       "      <td>6880986017</td>\n",
       "      <td>135</td>\n",
       "      <td>NaN</td>\n",
       "      <td>9420</td>\n",
       "      <td>7</td>\n",
       "      <td>7</td>\n",
       "      <td>23433</td>\n",
       "      <td>378</td>\n",
       "      <td>11</td>\n",
       "      <td>472</td>\n",
       "      <td>228</td>\n",
       "      <td>462</td>\n",
       "      <td>NaN</td>\n",
       "      <td>NaN</td>\n",
       "      <td>False</td>\n",
       "      <td>0</td>\n",
       "    </tr>\n",
       "    <tr>\n",
       "      <th>29978</th>\n",
       "      <td>6880986017</td>\n",
       "      <td>34</td>\n",
       "      <td>3.171592e+08</td>\n",
       "      <td>12548</td>\n",
       "      <td>7</td>\n",
       "      <td>7</td>\n",
       "      <td>38831</td>\n",
       "      <td>423</td>\n",
       "      <td>5</td>\n",
       "      <td>627</td>\n",
       "      <td>232</td>\n",
       "      <td>0</td>\n",
       "      <td>NaN</td>\n",
       "      <td>NaN</td>\n",
       "      <td>False</td>\n",
       "      <td>0</td>\n",
       "    </tr>\n",
       "    <tr>\n",
       "      <th>29979</th>\n",
       "      <td>6880986017</td>\n",
       "      <td>100</td>\n",
       "      <td>NaN</td>\n",
       "      <td>5979</td>\n",
       "      <td>3</td>\n",
       "      <td>8</td>\n",
       "      <td>10070</td>\n",
       "      <td>206</td>\n",
       "      <td>13</td>\n",
       "      <td>356</td>\n",
       "      <td>26</td>\n",
       "      <td>155</td>\n",
       "      <td>NaN</td>\n",
       "      <td>NaN</td>\n",
       "      <td>False</td>\n",
       "      <td>0</td>\n",
       "    </tr>\n",
       "  </tbody>\n",
       "</table>\n",
       "<p>29980 rows × 16 columns</p>\n",
       "</div>"
      ],
      "text/plain": [
       "         match_id  hero_id    account_id  net_worth  kills  deaths  \\\n",
       "0      6880961402       18  1.061968e+09       6055      0       1   \n",
       "1      6880961402       67  3.806631e+08       5183      6       1   \n",
       "2      6880961402       87  1.677427e+08       3941      0       1   \n",
       "3      6880961402       32  1.648819e+08       3908      3       1   \n",
       "4      6880961402        8  2.909714e+08       4478      1       1   \n",
       "...           ...      ...           ...        ...    ...     ...   \n",
       "29975  6880986017       20           NaN       4267      2      11   \n",
       "29976  6880986017        6  2.322550e+08      11709      2       8   \n",
       "29977  6880986017      135           NaN       9420      7       7   \n",
       "29978  6880986017       34  3.171592e+08      12548      7       7   \n",
       "29979  6880986017      100           NaN       5979      3       8   \n",
       "\n",
       "       hero_damage  gold_per_min  assists  xp_per_min  last_hits  \\\n",
       "0             1737           582        8         546         56   \n",
       "1             2497           488        1         316         40   \n",
       "2              792           369        6         216         35   \n",
       "3             1379           360        3         257         22   \n",
       "4             2633           411        6         338         34   \n",
       "...            ...           ...      ...         ...        ...   \n",
       "29975         9727           198        5         328         26   \n",
       "29976        16769           441        2         508        249   \n",
       "29977        23433           378       11         472        228   \n",
       "29978        38831           423        5         627        232   \n",
       "29979        10070           206       13         356         26   \n",
       "\n",
       "       tower_damage  obs_placed  roshans_killed  isRadiant  win  \n",
       "0              9408         NaN             NaN       True    1  \n",
       "1              1205         NaN             NaN       True    1  \n",
       "2                 0         NaN             NaN       True    1  \n",
       "3               469         NaN             NaN       True    1  \n",
       "4               264         NaN             NaN       True    1  \n",
       "...             ...         ...             ...        ...  ...  \n",
       "29975            17         NaN             NaN      False    0  \n",
       "29976             0         NaN             NaN      False    0  \n",
       "29977           462         NaN             NaN      False    0  \n",
       "29978             0         NaN             NaN      False    0  \n",
       "29979           155         NaN             NaN      False    0  \n",
       "\n",
       "[29980 rows x 16 columns]"
      ]
     },
     "execution_count": 2,
     "metadata": {},
     "output_type": "execute_result"
    }
   ],
   "source": [
    "# lets retrieve the data\n",
    "data = pd.read_csv('../1039_esports/data/players.csv')\n",
    "data"
   ]
  },
  {
   "cell_type": "code",
   "execution_count": 3,
   "id": "8355e12a",
   "metadata": {},
   "outputs": [
    {
     "data": {
      "text/plain": [
       "0"
      ]
     },
     "execution_count": 3,
     "metadata": {},
     "output_type": "execute_result"
    }
   ],
   "source": [
    "data['deaths'].isna().sum()"
   ]
  },
  {
   "cell_type": "code",
   "execution_count": 4,
   "id": "c95353d7",
   "metadata": {},
   "outputs": [
    {
     "data": {
      "text/html": [
       "<div>\n",
       "<style scoped>\n",
       "    .dataframe tbody tr th:only-of-type {\n",
       "        vertical-align: middle;\n",
       "    }\n",
       "\n",
       "    .dataframe tbody tr th {\n",
       "        vertical-align: top;\n",
       "    }\n",
       "\n",
       "    .dataframe thead th {\n",
       "        text-align: right;\n",
       "    }\n",
       "</style>\n",
       "<table border=\"1\" class=\"dataframe\">\n",
       "  <thead>\n",
       "    <tr style=\"text-align: right;\">\n",
       "      <th></th>\n",
       "      <th>roshans_killed</th>\n",
       "    </tr>\n",
       "  </thead>\n",
       "  <tbody>\n",
       "  </tbody>\n",
       "</table>\n",
       "</div>"
      ],
      "text/plain": [
       "Empty DataFrame\n",
       "Columns: [roshans_killed]\n",
       "Index: []"
      ]
     },
     "execution_count": 4,
     "metadata": {},
     "output_type": "execute_result"
    }
   ],
   "source": [
    "pd.DataFrame(data['roshans_killed'].value_counts())"
   ]
  },
  {
   "cell_type": "code",
   "execution_count": 5,
   "id": "9709e98e",
   "metadata": {},
   "outputs": [
    {
     "data": {
      "text/html": [
       "<div>\n",
       "<style scoped>\n",
       "    .dataframe tbody tr th:only-of-type {\n",
       "        vertical-align: middle;\n",
       "    }\n",
       "\n",
       "    .dataframe tbody tr th {\n",
       "        vertical-align: top;\n",
       "    }\n",
       "\n",
       "    .dataframe thead th {\n",
       "        text-align: right;\n",
       "    }\n",
       "</style>\n",
       "<table border=\"1\" class=\"dataframe\">\n",
       "  <thead>\n",
       "    <tr style=\"text-align: right;\">\n",
       "      <th></th>\n",
       "      <th>obs_placed</th>\n",
       "    </tr>\n",
       "  </thead>\n",
       "  <tbody>\n",
       "  </tbody>\n",
       "</table>\n",
       "</div>"
      ],
      "text/plain": [
       "Empty DataFrame\n",
       "Columns: [obs_placed]\n",
       "Index: []"
      ]
     },
     "execution_count": 5,
     "metadata": {},
     "output_type": "execute_result"
    }
   ],
   "source": [
    "pd.DataFrame(data['obs_placed'].value_counts())"
   ]
  },
  {
   "cell_type": "code",
   "execution_count": 6,
   "id": "a35d2efa",
   "metadata": {},
   "outputs": [],
   "source": [
    "# we select the numerical columns\n",
    "num_data = data[['net_worth', 'kills', 'deaths', 'hero_damage', 'gold_per_min',\n",
    "                 'assists', 'xp_per_min', 'last_hits', 'tower_damage', 'obs_placed', 'roshans_killed']]"
   ]
  },
  {
   "cell_type": "code",
   "execution_count": 7,
   "id": "4b62f18a",
   "metadata": {},
   "outputs": [
    {
     "name": "stdout",
     "output_type": "stream",
     "text": [
      "False    29980\n",
      "Name: match_id, dtype: int64\n",
      "\n",
      "\n",
      "False    29980\n",
      "Name: hero_id, dtype: int64\n",
      "\n",
      "\n",
      "False    15150\n",
      "True     14830\n",
      "Name: account_id, dtype: int64\n",
      "\n",
      "\n",
      "False    29980\n",
      "Name: net_worth, dtype: int64\n",
      "\n",
      "\n",
      "False    29980\n",
      "Name: kills, dtype: int64\n",
      "\n",
      "\n",
      "False    29980\n",
      "Name: deaths, dtype: int64\n",
      "\n",
      "\n",
      "False    29980\n",
      "Name: hero_damage, dtype: int64\n",
      "\n",
      "\n",
      "False    29980\n",
      "Name: gold_per_min, dtype: int64\n",
      "\n",
      "\n",
      "False    29980\n",
      "Name: assists, dtype: int64\n",
      "\n",
      "\n",
      "False    29980\n",
      "Name: xp_per_min, dtype: int64\n",
      "\n",
      "\n",
      "False    29980\n",
      "Name: last_hits, dtype: int64\n",
      "\n",
      "\n",
      "False    29980\n",
      "Name: tower_damage, dtype: int64\n",
      "\n",
      "\n",
      "True    29980\n",
      "Name: obs_placed, dtype: int64\n",
      "\n",
      "\n",
      "True    29980\n",
      "Name: roshans_killed, dtype: int64\n",
      "\n",
      "\n",
      "False    29980\n",
      "Name: isRadiant, dtype: int64\n",
      "\n",
      "\n",
      "False    29980\n",
      "Name: win, dtype: int64\n",
      "\n",
      "\n"
     ]
    }
   ],
   "source": [
    "for column in data:\n",
    "    print(data[column].isna().value_counts())\n",
    "    print('\\n')\n",
    "    #print(f\"{column} has {data[column].isna().value_counts()[1]} null values\")"
   ]
  },
  {
   "cell_type": "code",
   "execution_count": 8,
   "id": "0da6faea",
   "metadata": {},
   "outputs": [
    {
     "data": {
      "text/plain": [
       "14830"
      ]
     },
     "execution_count": 8,
     "metadata": {},
     "output_type": "execute_result"
    }
   ],
   "source": [
    "data['account_id'].isna().value_counts()[1]"
   ]
  },
  {
   "cell_type": "code",
   "execution_count": 9,
   "id": "dab5b9ec",
   "metadata": {},
   "outputs": [
    {
     "data": {
      "image/png": "[encoded data removed]",
      "text/plain": [
       "<Figure size 432x288 with 1 Axes>"
      ]
     },
     "metadata": {
      "needs_background": "light"
     },
     "output_type": "display_data"
    }
   ],
   "source": [
    "sns.histplot(data, x=data['roshans_killed'], kde=True).set(title='roshans_killed');"
   ]
  },
  {
   "cell_type": "code",
   "execution_count": 10,
   "id": "cceec3e5",
   "metadata": {},
   "outputs": [
    {
     "data": {
      "image/png": "[encoded data removed]",
      "text/plain": [
       "<Figure size 432x288 with 1 Axes>"
      ]
     },
     "metadata": {
      "needs_background": "light"
     },
     "output_type": "display_data"
    }
   ],
   "source": [
    "sns.histplot(data, x=data['obs_placed'], kde=True).set(title='obs_placed');"
   ]
  },
  {
   "cell_type": "code",
   "execution_count": 11,
   "id": "05c0e2ef",
   "metadata": {},
   "outputs": [
    {
     "data": {
      "image/png": "[encoded data removed]",
      "text/plain": [
       "<Figure size 432x288 with 1 Axes>"
      ]
     },
     "metadata": {
      "needs_background": "light"
     },
     "output_type": "display_data"
    }
   ],
   "source": [
    "sns.histplot(data, x=data['tower_damage'], kde=True).set(title='tower_damage');"
   ]
  },
  {
   "cell_type": "code",
   "execution_count": 12,
   "id": "eecdf8c6",
   "metadata": {},
   "outputs": [
    {
     "data": {
      "image/png": "[encoded data removed]",
      "text/plain": [
       "<Figure size 432x288 with 1 Axes>"
      ]
     },
     "metadata": {
      "needs_background": "light"
     },
     "output_type": "display_data"
    }
   ],
   "source": [
    "sns.histplot(data, x=data['last_hits'], kde=True).set(title='last_hits');"
   ]
  },
  {
   "cell_type": "code",
   "execution_count": 13,
   "id": "ac4277b5",
   "metadata": {},
   "outputs": [
    {
     "data": {
      "image/png": "[encoded data removed]",
      "text/plain": [
       "<Figure size 432x288 with 1 Axes>"
      ]
     },
     "metadata": {
      "needs_background": "light"
     },
     "output_type": "display_data"
    }
   ],
   "source": [
    "sns.histplot(data, x=data['xp_per_min'], kde=True).set(title='xp_per_min');"
   ]
  },
  {
   "cell_type": "code",
   "execution_count": 14,
   "id": "9818d3fe",
   "metadata": {},
   "outputs": [
    {
     "data": {
      "image/png": "[encoded data removed]",
      "text/plain": [
       "<Figure size 432x288 with 1 Axes>"
      ]
     },
     "metadata": {
      "needs_background": "light"
     },
     "output_type": "display_data"
    }
   ],
   "source": [
    "sns.histplot(data, x=data['assists'], kde=True).set(title='assists');"
   ]
  },
  {
   "cell_type": "code",
   "execution_count": 15,
   "id": "639060da",
   "metadata": {},
   "outputs": [
    {
     "data": {
      "image/png": "[encoded data removed]",
      "text/plain": [
       "<Figure size 432x288 with 1 Axes>"
      ]
     },
     "metadata": {
      "needs_background": "light"
     },
     "output_type": "display_data"
    }
   ],
   "source": [
    "sns.histplot(data, x=data['gold_per_min'], kde=True).set(title='gold_per_min');"
   ]
  },
  {
   "cell_type": "code",
   "execution_count": 16,
   "id": "82a4ee6e",
   "metadata": {},
   "outputs": [
    {
     "data": {
      "image/png": "[encoded data removed]",
      "text/plain": [
       "<Figure size 432x288 with 1 Axes>"
      ]
     },
     "metadata": {
      "needs_background": "light"
     },
     "output_type": "display_data"
    }
   ],
   "source": [
    "sns.histplot(data, x=data['hero_damage'], kde=True).set(title='hero_damage');"
   ]
  },
  {
   "cell_type": "code",
   "execution_count": 17,
   "id": "ef1b2bf9",
   "metadata": {},
   "outputs": [
    {
     "data": {
      "image/png": "[encoded data removed]",
      "text/plain": [
       "<Figure size 432x288 with 1 Axes>"
      ]
     },
     "metadata": {
      "needs_background": "light"
     },
     "output_type": "display_data"
    }
   ],
   "source": [
    "sns.histplot(data, x=data['deaths'], kde=True).set(title='deaths');"
   ]
  },
  {
   "cell_type": "code",
   "execution_count": 18,
   "id": "aafb7651",
   "metadata": {},
   "outputs": [
    {
     "data": {
      "image/png": "[encoded data removed]",
      "text/plain": [
       "<Figure size 432x288 with 1 Axes>"
      ]
     },
     "metadata": {
      "needs_background": "light"
     },
     "output_type": "display_data"
    }
   ],
   "source": [
    "sns.histplot(data, x=data['kills'], kde=True).set(title='kills');"
   ]
  },
  {
   "cell_type": "code",
   "execution_count": 19,
   "id": "929871ef",
   "metadata": {},
   "outputs": [
    {
     "data": {
      "image/png": "[encoded data removed]",
      "text/plain": [
       "<Figure size 432x288 with 1 Axes>"
      ]
     },
     "metadata": {
      "needs_background": "light"
     },
     "output_type": "display_data"
    }
   ],
   "source": [
    "sns.histplot(data, x=data['net_worth'], kde=True).set(title='net_worth');"
   ]
  },
  {
   "cell_type": "code",
   "execution_count": 20,
   "id": "8e392de1",
   "metadata": {},
   "outputs": [
    {
     "data": {
      "text/html": [
       "<div>\n",
       "<style scoped>\n",
       "    .dataframe tbody tr th:only-of-type {\n",
       "        vertical-align: middle;\n",
       "    }\n",
       "\n",
       "    .dataframe tbody tr th {\n",
       "        vertical-align: top;\n",
       "    }\n",
       "\n",
       "    .dataframe thead th {\n",
       "        text-align: right;\n",
       "    }\n",
       "</style>\n",
       "<table border=\"1\" class=\"dataframe\">\n",
       "  <thead>\n",
       "    <tr style=\"text-align: right;\">\n",
       "      <th></th>\n",
       "      <th>match_id</th>\n",
       "      <th>hero_id</th>\n",
       "      <th>account_id</th>\n",
       "      <th>net_worth</th>\n",
       "      <th>kills</th>\n",
       "      <th>deaths</th>\n",
       "      <th>hero_damage</th>\n",
       "      <th>gold_per_min</th>\n",
       "      <th>assists</th>\n",
       "      <th>xp_per_min</th>\n",
       "      <th>last_hits</th>\n",
       "      <th>tower_damage</th>\n",
       "      <th>obs_placed</th>\n",
       "      <th>roshans_killed</th>\n",
       "      <th>isRadiant</th>\n",
       "      <th>win</th>\n",
       "    </tr>\n",
       "  </thead>\n",
       "  <tbody>\n",
       "    <tr>\n",
       "      <th>match_id</th>\n",
       "      <td>1.000000e+00</td>\n",
       "      <td>0.017547</td>\n",
       "      <td>-0.005759</td>\n",
       "      <td>-0.146375</td>\n",
       "      <td>-0.094430</td>\n",
       "      <td>-0.119064</td>\n",
       "      <td>-0.153457</td>\n",
       "      <td>-0.051255</td>\n",
       "      <td>-0.131940</td>\n",
       "      <td>-0.115862</td>\n",
       "      <td>-0.106801</td>\n",
       "      <td>-0.047292</td>\n",
       "      <td>NaN</td>\n",
       "      <td>NaN</td>\n",
       "      <td>-2.542571e-14</td>\n",
       "      <td>-2.081553e-14</td>\n",
       "    </tr>\n",
       "    <tr>\n",
       "      <th>hero_id</th>\n",
       "      <td>1.754688e-02</td>\n",
       "      <td>1.000000</td>\n",
       "      <td>-0.005973</td>\n",
       "      <td>-0.062701</td>\n",
       "      <td>-0.011007</td>\n",
       "      <td>0.022794</td>\n",
       "      <td>-0.008600</td>\n",
       "      <td>-0.071800</td>\n",
       "      <td>0.042069</td>\n",
       "      <td>-0.060081</td>\n",
       "      <td>-0.121325</td>\n",
       "      <td>-0.062599</td>\n",
       "      <td>NaN</td>\n",
       "      <td>NaN</td>\n",
       "      <td>3.619613e-02</td>\n",
       "      <td>-1.379227e-02</td>\n",
       "    </tr>\n",
       "    <tr>\n",
       "      <th>account_id</th>\n",
       "      <td>-5.758732e-03</td>\n",
       "      <td>-0.005973</td>\n",
       "      <td>1.000000</td>\n",
       "      <td>0.046208</td>\n",
       "      <td>0.064008</td>\n",
       "      <td>0.020931</td>\n",
       "      <td>0.046057</td>\n",
       "      <td>0.082406</td>\n",
       "      <td>-0.015492</td>\n",
       "      <td>0.095729</td>\n",
       "      <td>0.067700</td>\n",
       "      <td>0.047304</td>\n",
       "      <td>NaN</td>\n",
       "      <td>NaN</td>\n",
       "      <td>-2.145152e-03</td>\n",
       "      <td>9.424713e-03</td>\n",
       "    </tr>\n",
       "    <tr>\n",
       "      <th>net_worth</th>\n",
       "      <td>-1.463748e-01</td>\n",
       "      <td>-0.062701</td>\n",
       "      <td>0.046208</td>\n",
       "      <td>1.000000</td>\n",
       "      <td>0.718443</td>\n",
       "      <td>-0.227031</td>\n",
       "      <td>0.721144</td>\n",
       "      <td>0.891982</td>\n",
       "      <td>0.389683</td>\n",
       "      <td>0.892995</td>\n",
       "      <td>0.844452</td>\n",
       "      <td>0.679861</td>\n",
       "      <td>NaN</td>\n",
       "      <td>NaN</td>\n",
       "      <td>2.962329e-02</td>\n",
       "      <td>4.741099e-01</td>\n",
       "    </tr>\n",
       "    <tr>\n",
       "      <th>kills</th>\n",
       "      <td>-9.442995e-02</td>\n",
       "      <td>-0.011007</td>\n",
       "      <td>0.064008</td>\n",
       "      <td>0.718443</td>\n",
       "      <td>1.000000</td>\n",
       "      <td>-0.219056</td>\n",
       "      <td>0.790349</td>\n",
       "      <td>0.708214</td>\n",
       "      <td>0.379055</td>\n",
       "      <td>0.765543</td>\n",
       "      <td>0.465062</td>\n",
       "      <td>0.517900</td>\n",
       "      <td>NaN</td>\n",
       "      <td>NaN</td>\n",
       "      <td>4.270471e-02</td>\n",
       "      <td>4.563234e-01</td>\n",
       "    </tr>\n",
       "    <tr>\n",
       "      <th>deaths</th>\n",
       "      <td>-1.190636e-01</td>\n",
       "      <td>0.022794</td>\n",
       "      <td>0.020931</td>\n",
       "      <td>-0.227031</td>\n",
       "      <td>-0.219056</td>\n",
       "      <td>1.000000</td>\n",
       "      <td>0.019035</td>\n",
       "      <td>-0.378413</td>\n",
       "      <td>-0.071917</td>\n",
       "      <td>-0.256694</td>\n",
       "      <td>-0.193087</td>\n",
       "      <td>-0.359405</td>\n",
       "      <td>NaN</td>\n",
       "      <td>NaN</td>\n",
       "      <td>-5.391233e-02</td>\n",
       "      <td>-5.621214e-01</td>\n",
       "    </tr>\n",
       "    <tr>\n",
       "      <th>hero_damage</th>\n",
       "      <td>-1.534572e-01</td>\n",
       "      <td>-0.008600</td>\n",
       "      <td>0.046057</td>\n",
       "      <td>0.721144</td>\n",
       "      <td>0.790349</td>\n",
       "      <td>0.019035</td>\n",
       "      <td>1.000000</td>\n",
       "      <td>0.608826</td>\n",
       "      <td>0.457988</td>\n",
       "      <td>0.737095</td>\n",
       "      <td>0.512033</td>\n",
       "      <td>0.429222</td>\n",
       "      <td>NaN</td>\n",
       "      <td>NaN</td>\n",
       "      <td>1.775316e-02</td>\n",
       "      <td>2.793956e-01</td>\n",
       "    </tr>\n",
       "    <tr>\n",
       "      <th>gold_per_min</th>\n",
       "      <td>-5.125455e-02</td>\n",
       "      <td>-0.071800</td>\n",
       "      <td>0.082406</td>\n",
       "      <td>0.891982</td>\n",
       "      <td>0.708214</td>\n",
       "      <td>-0.378413</td>\n",
       "      <td>0.608826</td>\n",
       "      <td>1.000000</td>\n",
       "      <td>0.247004</td>\n",
       "      <td>0.860023</td>\n",
       "      <td>0.803212</td>\n",
       "      <td>0.697763</td>\n",
       "      <td>NaN</td>\n",
       "      <td>NaN</td>\n",
       "      <td>5.022607e-02</td>\n",
       "      <td>5.182411e-01</td>\n",
       "    </tr>\n",
       "    <tr>\n",
       "      <th>assists</th>\n",
       "      <td>-1.319403e-01</td>\n",
       "      <td>0.042069</td>\n",
       "      <td>-0.015492</td>\n",
       "      <td>0.389683</td>\n",
       "      <td>0.379055</td>\n",
       "      <td>-0.071917</td>\n",
       "      <td>0.457988</td>\n",
       "      <td>0.247004</td>\n",
       "      <td>1.000000</td>\n",
       "      <td>0.447829</td>\n",
       "      <td>0.068298</td>\n",
       "      <td>0.231946</td>\n",
       "      <td>NaN</td>\n",
       "      <td>NaN</td>\n",
       "      <td>6.084879e-02</td>\n",
       "      <td>5.355267e-01</td>\n",
       "    </tr>\n",
       "    <tr>\n",
       "      <th>xp_per_min</th>\n",
       "      <td>-1.158621e-01</td>\n",
       "      <td>-0.060081</td>\n",
       "      <td>0.095729</td>\n",
       "      <td>0.892995</td>\n",
       "      <td>0.765543</td>\n",
       "      <td>-0.256694</td>\n",
       "      <td>0.737095</td>\n",
       "      <td>0.860023</td>\n",
       "      <td>0.447829</td>\n",
       "      <td>1.000000</td>\n",
       "      <td>0.747083</td>\n",
       "      <td>0.604045</td>\n",
       "      <td>NaN</td>\n",
       "      <td>NaN</td>\n",
       "      <td>4.090521e-02</td>\n",
       "      <td>5.126845e-01</td>\n",
       "    </tr>\n",
       "    <tr>\n",
       "      <th>last_hits</th>\n",
       "      <td>-1.068012e-01</td>\n",
       "      <td>-0.121325</td>\n",
       "      <td>0.067700</td>\n",
       "      <td>0.844452</td>\n",
       "      <td>0.465062</td>\n",
       "      <td>-0.193087</td>\n",
       "      <td>0.512033</td>\n",
       "      <td>0.803212</td>\n",
       "      <td>0.068298</td>\n",
       "      <td>0.747083</td>\n",
       "      <td>1.000000</td>\n",
       "      <td>0.601677</td>\n",
       "      <td>NaN</td>\n",
       "      <td>NaN</td>\n",
       "      <td>1.329799e-02</td>\n",
       "      <td>2.388826e-01</td>\n",
       "    </tr>\n",
       "    <tr>\n",
       "      <th>tower_damage</th>\n",
       "      <td>-4.729159e-02</td>\n",
       "      <td>-0.062599</td>\n",
       "      <td>0.047304</td>\n",
       "      <td>0.679861</td>\n",
       "      <td>0.517900</td>\n",
       "      <td>-0.359405</td>\n",
       "      <td>0.429222</td>\n",
       "      <td>0.697763</td>\n",
       "      <td>0.231946</td>\n",
       "      <td>0.604045</td>\n",
       "      <td>0.601677</td>\n",
       "      <td>1.000000</td>\n",
       "      <td>NaN</td>\n",
       "      <td>NaN</td>\n",
       "      <td>5.562686e-02</td>\n",
       "      <td>5.174708e-01</td>\n",
       "    </tr>\n",
       "    <tr>\n",
       "      <th>obs_placed</th>\n",
       "      <td>NaN</td>\n",
       "      <td>NaN</td>\n",
       "      <td>NaN</td>\n",
       "      <td>NaN</td>\n",
       "      <td>NaN</td>\n",
       "      <td>NaN</td>\n",
       "      <td>NaN</td>\n",
       "      <td>NaN</td>\n",
       "      <td>NaN</td>\n",
       "      <td>NaN</td>\n",
       "      <td>NaN</td>\n",
       "      <td>NaN</td>\n",
       "      <td>NaN</td>\n",
       "      <td>NaN</td>\n",
       "      <td>NaN</td>\n",
       "      <td>NaN</td>\n",
       "    </tr>\n",
       "    <tr>\n",
       "      <th>roshans_killed</th>\n",
       "      <td>NaN</td>\n",
       "      <td>NaN</td>\n",
       "      <td>NaN</td>\n",
       "      <td>NaN</td>\n",
       "      <td>NaN</td>\n",
       "      <td>NaN</td>\n",
       "      <td>NaN</td>\n",
       "      <td>NaN</td>\n",
       "      <td>NaN</td>\n",
       "      <td>NaN</td>\n",
       "      <td>NaN</td>\n",
       "      <td>NaN</td>\n",
       "      <td>NaN</td>\n",
       "      <td>NaN</td>\n",
       "      <td>NaN</td>\n",
       "      <td>NaN</td>\n",
       "    </tr>\n",
       "    <tr>\n",
       "      <th>isRadiant</th>\n",
       "      <td>-2.542571e-14</td>\n",
       "      <td>0.036196</td>\n",
       "      <td>-0.002145</td>\n",
       "      <td>0.029623</td>\n",
       "      <td>0.042705</td>\n",
       "      <td>-0.053912</td>\n",
       "      <td>0.017753</td>\n",
       "      <td>0.050226</td>\n",
       "      <td>0.060849</td>\n",
       "      <td>0.040905</td>\n",
       "      <td>0.013298</td>\n",
       "      <td>0.055627</td>\n",
       "      <td>NaN</td>\n",
       "      <td>NaN</td>\n",
       "      <td>1.000000e+00</td>\n",
       "      <td>1.340894e-01</td>\n",
       "    </tr>\n",
       "    <tr>\n",
       "      <th>win</th>\n",
       "      <td>-2.081553e-14</td>\n",
       "      <td>-0.013792</td>\n",
       "      <td>0.009425</td>\n",
       "      <td>0.474110</td>\n",
       "      <td>0.456323</td>\n",
       "      <td>-0.562121</td>\n",
       "      <td>0.279396</td>\n",
       "      <td>0.518241</td>\n",
       "      <td>0.535527</td>\n",
       "      <td>0.512684</td>\n",
       "      <td>0.238883</td>\n",
       "      <td>0.517471</td>\n",
       "      <td>NaN</td>\n",
       "      <td>NaN</td>\n",
       "      <td>1.340894e-01</td>\n",
       "      <td>1.000000e+00</td>\n",
       "    </tr>\n",
       "  </tbody>\n",
       "</table>\n",
       "</div>"
      ],
      "text/plain": [
       "                    match_id   hero_id  account_id  net_worth     kills  \\\n",
       "match_id        1.000000e+00  0.017547   -0.005759  -0.146375 -0.094430   \n",
       "hero_id         1.754688e-02  1.000000   -0.005973  -0.062701 -0.011007   \n",
       "account_id     -5.758732e-03 -0.005973    1.000000   0.046208  0.064008   \n",
       "net_worth      -1.463748e-01 -0.062701    0.046208   1.000000  0.718443   \n",
       "kills          -9.442995e-02 -0.011007    0.064008   0.718443  1.000000   \n",
       "deaths         -1.190636e-01  0.022794    0.020931  -0.227031 -0.219056   \n",
       "hero_damage    -1.534572e-01 -0.008600    0.046057   0.721144  0.790349   \n",
       "gold_per_min   -5.125455e-02 -0.071800    0.082406   0.891982  0.708214   \n",
       "assists        -1.319403e-01  0.042069   -0.015492   0.389683  0.379055   \n",
       "xp_per_min     -1.158621e-01 -0.060081    0.095729   0.892995  0.765543   \n",
       "last_hits      -1.068012e-01 -0.121325    0.067700   0.844452  0.465062   \n",
       "tower_damage   -4.729159e-02 -0.062599    0.047304   0.679861  0.517900   \n",
       "obs_placed               NaN       NaN         NaN        NaN       NaN   \n",
       "roshans_killed           NaN       NaN         NaN        NaN       NaN   \n",
       "isRadiant      -2.542571e-14  0.036196   -0.002145   0.029623  0.042705   \n",
       "win            -2.081553e-14 -0.013792    0.009425   0.474110  0.456323   \n",
       "\n",
       "                  deaths  hero_damage  gold_per_min   assists  xp_per_min  \\\n",
       "match_id       -0.119064    -0.153457     -0.051255 -0.131940   -0.115862   \n",
       "hero_id         0.022794    -0.008600     -0.071800  0.042069   -0.060081   \n",
       "account_id      0.020931     0.046057      0.082406 -0.015492    0.095729   \n",
       "net_worth      -0.227031     0.721144      0.891982  0.389683    0.892995   \n",
       "kills          -0.219056     0.790349      0.708214  0.379055    0.765543   \n",
       "deaths          1.000000     0.019035     -0.378413 -0.071917   -0.256694   \n",
       "hero_damage     0.019035     1.000000      0.608826  0.457988    0.737095   \n",
       "gold_per_min   -0.378413     0.608826      1.000000  0.247004    0.860023   \n",
       "assists        -0.071917     0.457988      0.247004  1.000000    0.447829   \n",
       "xp_per_min     -0.256694     0.737095      0.860023  0.447829    1.000000   \n",
       "last_hits      -0.193087     0.512033      0.803212  0.068298    0.747083   \n",
       "tower_damage   -0.359405     0.429222      0.697763  0.231946    0.604045   \n",
       "obs_placed           NaN          NaN           NaN       NaN         NaN   \n",
       "roshans_killed       NaN          NaN           NaN       NaN         NaN   \n",
       "isRadiant      -0.053912     0.017753      0.050226  0.060849    0.040905   \n",
       "win            -0.562121     0.279396      0.518241  0.535527    0.512684   \n",
       "\n",
       "                last_hits  tower_damage  obs_placed  roshans_killed  \\\n",
       "match_id        -0.106801     -0.047292         NaN             NaN   \n",
       "hero_id         -0.121325     -0.062599         NaN             NaN   \n",
       "account_id       0.067700      0.047304         NaN             NaN   \n",
       "net_worth        0.844452      0.679861         NaN             NaN   \n",
       "kills            0.465062      0.517900         NaN             NaN   \n",
       "deaths          -0.193087     -0.359405         NaN             NaN   \n",
       "hero_damage      0.512033      0.429222         NaN             NaN   \n",
       "gold_per_min     0.803212      0.697763         NaN             NaN   \n",
       "assists          0.068298      0.231946         NaN             NaN   \n",
       "xp_per_min       0.747083      0.604045         NaN             NaN   \n",
       "last_hits        1.000000      0.601677         NaN             NaN   \n",
       "tower_damage     0.601677      1.000000         NaN             NaN   \n",
       "obs_placed            NaN           NaN         NaN             NaN   \n",
       "roshans_killed        NaN           NaN         NaN             NaN   \n",
       "isRadiant        0.013298      0.055627         NaN             NaN   \n",
       "win              0.238883      0.517471         NaN             NaN   \n",
       "\n",
       "                   isRadiant           win  \n",
       "match_id       -2.542571e-14 -2.081553e-14  \n",
       "hero_id         3.619613e-02 -1.379227e-02  \n",
       "account_id     -2.145152e-03  9.424713e-03  \n",
       "net_worth       2.962329e-02  4.741099e-01  \n",
       "kills           4.270471e-02  4.563234e-01  \n",
       "deaths         -5.391233e-02 -5.621214e-01  \n",
       "hero_damage     1.775316e-02  2.793956e-01  \n",
       "gold_per_min    5.022607e-02  5.182411e-01  \n",
       "assists         6.084879e-02  5.355267e-01  \n",
       "xp_per_min      4.090521e-02  5.126845e-01  \n",
       "last_hits       1.329799e-02  2.388826e-01  \n",
       "tower_damage    5.562686e-02  5.174708e-01  \n",
       "obs_placed               NaN           NaN  \n",
       "roshans_killed           NaN           NaN  \n",
       "isRadiant       1.000000e+00  1.340894e-01  \n",
       "win             1.340894e-01  1.000000e+00  "
      ]
     },
     "execution_count": 20,
     "metadata": {},
     "output_type": "execute_result"
    }
   ],
   "source": [
    "data.corr()"
   ]
  },
  {
   "cell_type": "markdown",
   "id": "54af1654",
   "metadata": {},
   "source": [
    "# Findings"
   ]
  },
  {
   "cell_type": "code",
   "execution_count": 21,
   "id": "43a2f0ea",
   "metadata": {},
   "outputs": [],
   "source": [
    "# extra kills column that needs to be removed"
   ]
  },
  {
   "cell_type": "markdown",
   "id": "268c8204",
   "metadata": {},
   "source": [
    "# Analysis with New Data"
   ]
  },
  {
   "cell_type": "code",
   "execution_count": 22,
   "id": "202a2c14",
   "metadata": {},
   "outputs": [
    {
     "name": "stdout",
     "output_type": "stream",
     "text": [
      "<class 'pandas.core.frame.DataFrame'>\n",
      "RangeIndex: 29980 entries, 0 to 29979\n",
      "Data columns (total 16 columns):\n",
      " #   Column          Non-Null Count  Dtype  \n",
      "---  ------          --------------  -----  \n",
      " 0   match_id        29980 non-null  int64  \n",
      " 1   hero_id         29980 non-null  int64  \n",
      " 2   account_id      15150 non-null  float64\n",
      " 3   net_worth       29980 non-null  int64  \n",
      " 4   kills           29980 non-null  int64  \n",
      " 5   deaths          29980 non-null  int64  \n",
      " 6   hero_damage     29980 non-null  int64  \n",
      " 7   gold_per_min    29980 non-null  int64  \n",
      " 8   assists         29980 non-null  int64  \n",
      " 9   xp_per_min      29980 non-null  int64  \n",
      " 10  last_hits       29980 non-null  int64  \n",
      " 11  tower_damage    29980 non-null  int64  \n",
      " 12  obs_placed      0 non-null      float64\n",
      " 13  roshans_killed  0 non-null      float64\n",
      " 14  isRadiant       29980 non-null  bool   \n",
      " 15  win             29980 non-null  int64  \n",
      "dtypes: bool(1), float64(3), int64(12)\n",
      "memory usage: 3.5 MB\n"
     ]
    }
   ],
   "source": [
    "data.info()"
   ]
  },
  {
   "cell_type": "code",
   "execution_count": 23,
   "id": "15c1e1e6",
   "metadata": {},
   "outputs": [
    {
     "data": {
      "text/html": [
       "<div>\n",
       "<style scoped>\n",
       "    .dataframe tbody tr th:only-of-type {\n",
       "        vertical-align: middle;\n",
       "    }\n",
       "\n",
       "    .dataframe tbody tr th {\n",
       "        vertical-align: top;\n",
       "    }\n",
       "\n",
       "    .dataframe thead th {\n",
       "        text-align: right;\n",
       "    }\n",
       "</style>\n",
       "<table border=\"1\" class=\"dataframe\">\n",
       "  <thead>\n",
       "    <tr style=\"text-align: right;\">\n",
       "      <th></th>\n",
       "      <th>match_id</th>\n",
       "      <th>hero_id</th>\n",
       "      <th>account_id</th>\n",
       "      <th>net_worth</th>\n",
       "      <th>kills</th>\n",
       "      <th>deaths</th>\n",
       "      <th>hero_damage</th>\n",
       "      <th>gold_per_min</th>\n",
       "      <th>assists</th>\n",
       "      <th>xp_per_min</th>\n",
       "      <th>last_hits</th>\n",
       "      <th>tower_damage</th>\n",
       "      <th>obs_placed</th>\n",
       "      <th>roshans_killed</th>\n",
       "      <th>win</th>\n",
       "    </tr>\n",
       "  </thead>\n",
       "  <tbody>\n",
       "    <tr>\n",
       "      <th>count</th>\n",
       "      <td>2.998000e+04</td>\n",
       "      <td>29980.000000</td>\n",
       "      <td>1.515000e+04</td>\n",
       "      <td>29980.000000</td>\n",
       "      <td>29980.000000</td>\n",
       "      <td>29980.000000</td>\n",
       "      <td>29980.000000</td>\n",
       "      <td>29980.000000</td>\n",
       "      <td>29980.000000</td>\n",
       "      <td>29980.000000</td>\n",
       "      <td>29980.000000</td>\n",
       "      <td>29980.000000</td>\n",
       "      <td>0.0</td>\n",
       "      <td>0.0</td>\n",
       "      <td>29980.000000</td>\n",
       "    </tr>\n",
       "    <tr>\n",
       "      <th>mean</th>\n",
       "      <td>6.880965e+09</td>\n",
       "      <td>58.074283</td>\n",
       "      <td>3.763621e+08</td>\n",
       "      <td>8947.857738</td>\n",
       "      <td>4.816945</td>\n",
       "      <td>5.007905</td>\n",
       "      <td>11735.529820</td>\n",
       "      <td>380.851268</td>\n",
       "      <td>7.775284</td>\n",
       "      <td>458.558139</td>\n",
       "      <td>86.168412</td>\n",
       "      <td>2292.216044</td>\n",
       "      <td>NaN</td>\n",
       "      <td>NaN</td>\n",
       "      <td>0.500000</td>\n",
       "    </tr>\n",
       "    <tr>\n",
       "      <th>std</th>\n",
       "      <td>1.871116e+04</td>\n",
       "      <td>39.404061</td>\n",
       "      <td>3.536635e+08</td>\n",
       "      <td>4904.294969</td>\n",
       "      <td>4.659969</td>\n",
       "      <td>3.737631</td>\n",
       "      <td>7982.815942</td>\n",
       "      <td>146.101700</td>\n",
       "      <td>6.400008</td>\n",
       "      <td>189.118183</td>\n",
       "      <td>67.863660</td>\n",
       "      <td>3994.468425</td>\n",
       "      <td>NaN</td>\n",
       "      <td>NaN</td>\n",
       "      <td>0.500008</td>\n",
       "    </tr>\n",
       "    <tr>\n",
       "      <th>min</th>\n",
       "      <td>6.880924e+09</td>\n",
       "      <td>1.000000</td>\n",
       "      <td>1.387670e+05</td>\n",
       "      <td>1.000000</td>\n",
       "      <td>0.000000</td>\n",
       "      <td>0.000000</td>\n",
       "      <td>0.000000</td>\n",
       "      <td>97.000000</td>\n",
       "      <td>0.000000</td>\n",
       "      <td>6.000000</td>\n",
       "      <td>0.000000</td>\n",
       "      <td>0.000000</td>\n",
       "      <td>NaN</td>\n",
       "      <td>NaN</td>\n",
       "      <td>0.000000</td>\n",
       "    </tr>\n",
       "    <tr>\n",
       "      <th>25%</th>\n",
       "      <td>6.880950e+09</td>\n",
       "      <td>23.000000</td>\n",
       "      <td>1.400965e+08</td>\n",
       "      <td>5379.000000</td>\n",
       "      <td>1.000000</td>\n",
       "      <td>2.000000</td>\n",
       "      <td>6191.000000</td>\n",
       "      <td>274.000000</td>\n",
       "      <td>3.000000</td>\n",
       "      <td>321.000000</td>\n",
       "      <td>31.000000</td>\n",
       "      <td>0.000000</td>\n",
       "      <td>NaN</td>\n",
       "      <td>NaN</td>\n",
       "      <td>0.000000</td>\n",
       "    </tr>\n",
       "    <tr>\n",
       "      <th>50%</th>\n",
       "      <td>6.880965e+09</td>\n",
       "      <td>53.000000</td>\n",
       "      <td>2.155706e+08</td>\n",
       "      <td>8190.000000</td>\n",
       "      <td>4.000000</td>\n",
       "      <td>4.000000</td>\n",
       "      <td>10246.000000</td>\n",
       "      <td>357.000000</td>\n",
       "      <td>6.000000</td>\n",
       "      <td>437.000000</td>\n",
       "      <td>68.000000</td>\n",
       "      <td>385.000000</td>\n",
       "      <td>NaN</td>\n",
       "      <td>NaN</td>\n",
       "      <td>0.500000</td>\n",
       "    </tr>\n",
       "    <tr>\n",
       "      <th>75%</th>\n",
       "      <td>6.880980e+09</td>\n",
       "      <td>89.000000</td>\n",
       "      <td>4.035343e+08</td>\n",
       "      <td>11684.000000</td>\n",
       "      <td>7.000000</td>\n",
       "      <td>7.000000</td>\n",
       "      <td>15854.000000</td>\n",
       "      <td>470.000000</td>\n",
       "      <td>12.000000</td>\n",
       "      <td>572.000000</td>\n",
       "      <td>128.000000</td>\n",
       "      <td>2649.750000</td>\n",
       "      <td>NaN</td>\n",
       "      <td>NaN</td>\n",
       "      <td>1.000000</td>\n",
       "    </tr>\n",
       "    <tr>\n",
       "      <th>max</th>\n",
       "      <td>6.881033e+09</td>\n",
       "      <td>137.000000</td>\n",
       "      <td>1.477789e+09</td>\n",
       "      <td>32348.000000</td>\n",
       "      <td>35.000000</td>\n",
       "      <td>44.000000</td>\n",
       "      <td>75540.000000</td>\n",
       "      <td>1467.000000</td>\n",
       "      <td>42.000000</td>\n",
       "      <td>1331.000000</td>\n",
       "      <td>479.000000</td>\n",
       "      <td>31696.000000</td>\n",
       "      <td>NaN</td>\n",
       "      <td>NaN</td>\n",
       "      <td>1.000000</td>\n",
       "    </tr>\n",
       "  </tbody>\n",
       "</table>\n",
       "</div>"
      ],
      "text/plain": [
       "           match_id       hero_id    account_id     net_worth         kills  \\\n",
       "count  2.998000e+04  29980.000000  1.515000e+04  29980.000000  29980.000000   \n",
       "mean   6.880965e+09     58.074283  3.763621e+08   8947.857738      4.816945   \n",
       "std    1.871116e+04     39.404061  3.536635e+08   4904.294969      4.659969   \n",
       "min    6.880924e+09      1.000000  1.387670e+05      1.000000      0.000000   \n",
       "25%    6.880950e+09     23.000000  1.400965e+08   5379.000000      1.000000   \n",
       "50%    6.880965e+09     53.000000  2.155706e+08   8190.000000      4.000000   \n",
       "75%    6.880980e+09     89.000000  4.035343e+08  11684.000000      7.000000   \n",
       "max    6.881033e+09    137.000000  1.477789e+09  32348.000000     35.000000   \n",
       "\n",
       "             deaths   hero_damage  gold_per_min       assists    xp_per_min  \\\n",
       "count  29980.000000  29980.000000  29980.000000  29980.000000  29980.000000   \n",
       "mean       5.007905  11735.529820    380.851268      7.775284    458.558139   \n",
       "std        3.737631   7982.815942    146.101700      6.400008    189.118183   \n",
       "min        0.000000      0.000000     97.000000      0.000000      6.000000   \n",
       "25%        2.000000   6191.000000    274.000000      3.000000    321.000000   \n",
       "50%        4.000000  10246.000000    357.000000      6.000000    437.000000   \n",
       "75%        7.000000  15854.000000    470.000000     12.000000    572.000000   \n",
       "max       44.000000  75540.000000   1467.000000     42.000000   1331.000000   \n",
       "\n",
       "          last_hits  tower_damage  obs_placed  roshans_killed           win  \n",
       "count  29980.000000  29980.000000         0.0             0.0  29980.000000  \n",
       "mean      86.168412   2292.216044         NaN             NaN      0.500000  \n",
       "std       67.863660   3994.468425         NaN             NaN      0.500008  \n",
       "min        0.000000      0.000000         NaN             NaN      0.000000  \n",
       "25%       31.000000      0.000000         NaN             NaN      0.000000  \n",
       "50%       68.000000    385.000000         NaN             NaN      0.500000  \n",
       "75%      128.000000   2649.750000         NaN             NaN      1.000000  \n",
       "max      479.000000  31696.000000         NaN             NaN      1.000000  "
      ]
     },
     "execution_count": 23,
     "metadata": {},
     "output_type": "execute_result"
    }
   ],
   "source": [
    "data.describe()"
   ]
  },
  {
   "cell_type": "code",
   "execution_count": 24,
   "id": "eda53b46",
   "metadata": {},
   "outputs": [
    {
     "data": {
      "text/plain": [
       "match_id              0\n",
       "hero_id               0\n",
       "account_id        14830\n",
       "net_worth             0\n",
       "kills                 0\n",
       "deaths                0\n",
       "hero_damage           0\n",
       "gold_per_min          0\n",
       "assists               0\n",
       "xp_per_min            0\n",
       "last_hits             0\n",
       "tower_damage          0\n",
       "obs_placed        29980\n",
       "roshans_killed    29980\n",
       "isRadiant             0\n",
       "win                   0\n",
       "dtype: int64"
      ]
     },
     "execution_count": 24,
     "metadata": {},
     "output_type": "execute_result"
    }
   ],
   "source": [
    "data.isna().sum()"
   ]
  },
  {
   "cell_type": "code",
   "execution_count": 25,
   "id": "a45bb093",
   "metadata": {},
   "outputs": [
    {
     "data": {
      "text/plain": [
       "1    14990\n",
       "0    14990\n",
       "Name: win, dtype: int64"
      ]
     },
     "execution_count": 25,
     "metadata": {},
     "output_type": "execute_result"
    }
   ],
   "source": [
    "data.win.value_counts()"
   ]
  },
  {
   "cell_type": "code",
   "execution_count": null,
   "id": "d22765f0",
   "metadata": {},
   "outputs": [],
   "source": []
  }
 ],
 "metadata": {
  "kernelspec": {
   "display_name": "Python 3.8.12 64-bit ('shims')",
   "language": "python",
   "name": "python3"
  },
  "language_info": {
   "codemirror_mode": {
    "name": "ipython",
    "version": 3
   },
   "file_extension": ".py",
   "mimetype": "text/x-python",
   "name": "python",
   "nbconvert_exporter": "python",
   "pygments_lexer": "ipython3",
   "version": "3.8.12"
  },
  "toc": {
   "base_numbering": 1,
   "nav_menu": {},
   "number_sections": true,
   "sideBar": true,
   "skip_h1_title": false,
   "title_cell": "Table of Contents",
   "title_sidebar": "Contents",
   "toc_cell": false,
   "toc_position": {},
   "toc_section_display": true,
   "toc_window_display": false
  },
  "vscode": {
   "interpreter": {
    "hash": "272fd35305d296d99f02aabfa03b770dfa12813b82589aee67c47b8c466772ed"
   }
  }
 },
 "nbformat": 4,
 "nbformat_minor": 5
}
