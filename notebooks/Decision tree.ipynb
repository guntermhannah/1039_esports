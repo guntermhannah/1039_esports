{
 "cells": [
  {
   "cell_type": "code",
   "execution_count": 78,
   "id": "b463c7ed",
   "metadata": {},
   "outputs": [],
   "source": [
    "from sklearn.preprocessing import StandardScaler, OrdinalEncoder, OneHotEncoder\n",
    "import pandas as pd\n",
    "import numpy as np\n",
    "from sklearn.tree import DecisionTreeClassifier\n",
    "import sys\n",
    "sys.path.insert(0,\"/root/code/jasminebz/1039_esports\")\n",
    "from esports.model.decision_tree import tree_model\n",
    "from esports.matches_clean"
   ]
  },
  {
   "cell_type": "code",
   "execution_count": 104,
   "id": "d9aa1a92",
   "metadata": {},
   "outputs": [],
   "source": [
    "matches = pd.read_csv(\"../esports/data/matches.csv\")\n",
    "players = pd.read_csv(\"../esports/data/players.csv\")"
   ]
  },
  {
   "cell_type": "code",
   "execution_count": null,
   "id": "e97c2de2",
   "metadata": {},
   "outputs": [],
   "source": []
  }
 ],
 "metadata": {
  "kernelspec": {
   "display_name": "Python 3 (ipykernel)",
   "language": "python",
   "name": "python3"
  },
  "language_info": {
   "codemirror_mode": {
    "name": "ipython",
    "version": 3
   },
   "file_extension": ".py",
   "mimetype": "text/x-python",
   "name": "python",
   "nbconvert_exporter": "python",
   "pygments_lexer": "ipython3",
   "version": "3.8.12"
  },
  "toc": {
   "base_numbering": 1,
   "nav_menu": {},
   "number_sections": true,
   "sideBar": true,
   "skip_h1_title": false,
   "title_cell": "Table of Contents",
   "title_sidebar": "Contents",
   "toc_cell": false,
   "toc_position": {},
   "toc_section_display": true,
   "toc_window_display": false
  }
 },
 "nbformat": 4,
 "nbformat_minor": 5
}
