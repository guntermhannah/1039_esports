{
 "cells": [
  {
   "cell_type": "code",
   "execution_count": 2,
   "metadata": {},
   "outputs": [],
   "source": [
    "import pandas as pd\n",
    "import numpy as np\n",
    "import os\n",
    "\n",
    "from sklearn.model_selection import train_test_split, cross_val_score\n",
    "from sklearn.preprocessing import RobustScaler\n",
    "from sklearn.svm import SVR, SVC\n",
    "\n",
    "from xgboost import XGBRegressor\n",
    "from sklearn.ensemble import GradientBoostingRegressor\n",
    "\n",
    "import matplotlib.pyplot as plt\n",
    "\n",
    "from matches_clean import clean_player_pairs_data, train_test_split_data"
   ]
  },
  {
   "cell_type": "code",
   "execution_count": 3,
   "metadata": {},
   "outputs": [
    {
     "name": "stderr",
     "output_type": "stream",
     "text": [
      "/home/maebee/code/maebeexo/1039_esports/1039_esports/matches_clean.py:63: SettingWithCopyWarning: \n",
      "A value is trying to be set on a copy of a slice from a DataFrame.\n",
      "Try using .loc[row_indexer,col_indexer] = value instead\n",
      "\n",
      "See the caveats in the documentation: https://pandas.pydata.org/pandas-docs/stable/user_guide/indexing.html#returning-a-view-versus-a-copy\n",
      "  df_clean['player_win'] = np.where(df_clean[\"player\"] == df_clean[\"winner\"], 1, 0)\n"
     ]
    },
    {
     "data": {
      "text/html": [
       "<div>\n",
       "<style scoped>\n",
       "    .dataframe tbody tr th:only-of-type {\n",
       "        vertical-align: middle;\n",
       "    }\n",
       "\n",
       "    .dataframe tbody tr th {\n",
       "        vertical-align: top;\n",
       "    }\n",
       "\n",
       "    .dataframe thead th {\n",
       "        text-align: right;\n",
       "    }\n",
       "</style>\n",
       "<table border=\"1\" class=\"dataframe\">\n",
       "  <thead>\n",
       "    <tr style=\"text-align: right;\">\n",
       "      <th></th>\n",
       "      <th>match_id</th>\n",
       "      <th>player</th>\n",
       "      <th>player_deaths_per_min</th>\n",
       "      <th>player_assists_per_min</th>\n",
       "      <th>player_tower_damage</th>\n",
       "      <th>player_xp_per_min</th>\n",
       "      <th>player_gold_per_min</th>\n",
       "      <th>player_kills_per_min</th>\n",
       "      <th>player_roshans_killed</th>\n",
       "      <th>player_obs_placed</th>\n",
       "      <th>...</th>\n",
       "      <th>opponent_roshans_killed</th>\n",
       "      <th>opponent_obs_placed</th>\n",
       "      <th>winner</th>\n",
       "      <th>player_tower_damage_per_min</th>\n",
       "      <th>opponent_tower_damage_per_min</th>\n",
       "      <th>player_hero_damage_per_min</th>\n",
       "      <th>opponent_hero_damage_per_min</th>\n",
       "      <th>player_last_hits_per_min</th>\n",
       "      <th>opponent_last_hits_per_min</th>\n",
       "      <th>player_win</th>\n",
       "    </tr>\n",
       "  </thead>\n",
       "  <tbody>\n",
       "    <tr>\n",
       "      <th>0</th>\n",
       "      <td>6880924214</td>\n",
       "      <td>153110997</td>\n",
       "      <td>0.335188</td>\n",
       "      <td>0.187333</td>\n",
       "      <td>0</td>\n",
       "      <td>503.150000</td>\n",
       "      <td>385.550000</td>\n",
       "      <td>0.122589</td>\n",
       "      <td>0</td>\n",
       "      <td>0</td>\n",
       "      <td>...</td>\n",
       "      <td>0</td>\n",
       "      <td>0</td>\n",
       "      <td>1121170451</td>\n",
       "      <td>87.487301</td>\n",
       "      <td>134.999055</td>\n",
       "      <td>523.412499</td>\n",
       "      <td>682.043428</td>\n",
       "      <td>3.770177</td>\n",
       "      <td>5.146437</td>\n",
       "      <td>0</td>\n",
       "    </tr>\n",
       "    <tr>\n",
       "      <th>1</th>\n",
       "      <td>6880924314</td>\n",
       "      <td>118839691</td>\n",
       "      <td>0.200999</td>\n",
       "      <td>0.364690</td>\n",
       "      <td>0</td>\n",
       "      <td>561.550000</td>\n",
       "      <td>419.950000</td>\n",
       "      <td>0.173890</td>\n",
       "      <td>0</td>\n",
       "      <td>0</td>\n",
       "      <td>...</td>\n",
       "      <td>0</td>\n",
       "      <td>0</td>\n",
       "      <td>437601765</td>\n",
       "      <td>29.820544</td>\n",
       "      <td>32.060741</td>\n",
       "      <td>567.566668</td>\n",
       "      <td>332.453105</td>\n",
       "      <td>3.286680</td>\n",
       "      <td>1.432901</td>\n",
       "      <td>0</td>\n",
       "    </tr>\n",
       "    <tr>\n",
       "      <th>2</th>\n",
       "      <td>6880924403</td>\n",
       "      <td>124272893</td>\n",
       "      <td>0.195932</td>\n",
       "      <td>0.436385</td>\n",
       "      <td>0</td>\n",
       "      <td>1261.550000</td>\n",
       "      <td>917.300000</td>\n",
       "      <td>0.338771</td>\n",
       "      <td>0</td>\n",
       "      <td>0</td>\n",
       "      <td>...</td>\n",
       "      <td>0</td>\n",
       "      <td>0</td>\n",
       "      <td>233422854</td>\n",
       "      <td>36.548082</td>\n",
       "      <td>42.616946</td>\n",
       "      <td>849.969050</td>\n",
       "      <td>757.211362</td>\n",
       "      <td>4.128932</td>\n",
       "      <td>3.475098</td>\n",
       "      <td>0</td>\n",
       "    </tr>\n",
       "    <tr>\n",
       "      <th>3</th>\n",
       "      <td>6880924409</td>\n",
       "      <td>147428574</td>\n",
       "      <td>0.285012</td>\n",
       "      <td>0.483784</td>\n",
       "      <td>0</td>\n",
       "      <td>1062.947368</td>\n",
       "      <td>836.947368</td>\n",
       "      <td>0.281019</td>\n",
       "      <td>0</td>\n",
       "      <td>0</td>\n",
       "      <td>...</td>\n",
       "      <td>0</td>\n",
       "      <td>0</td>\n",
       "      <td>292686154</td>\n",
       "      <td>75.170211</td>\n",
       "      <td>42.982709</td>\n",
       "      <td>930.582114</td>\n",
       "      <td>464.727839</td>\n",
       "      <td>4.912842</td>\n",
       "      <td>2.282288</td>\n",
       "      <td>0</td>\n",
       "    </tr>\n",
       "    <tr>\n",
       "      <th>4</th>\n",
       "      <td>6880924612</td>\n",
       "      <td>208034581</td>\n",
       "      <td>0.124555</td>\n",
       "      <td>0.242047</td>\n",
       "      <td>0</td>\n",
       "      <td>590.950000</td>\n",
       "      <td>449.250000</td>\n",
       "      <td>0.147420</td>\n",
       "      <td>0</td>\n",
       "      <td>0</td>\n",
       "      <td>...</td>\n",
       "      <td>0</td>\n",
       "      <td>0</td>\n",
       "      <td>140386828</td>\n",
       "      <td>87.429535</td>\n",
       "      <td>88.834284</td>\n",
       "      <td>442.886421</td>\n",
       "      <td>749.092912</td>\n",
       "      <td>5.061386</td>\n",
       "      <td>4.677286</td>\n",
       "      <td>0</td>\n",
       "    </tr>\n",
       "    <tr>\n",
       "      <th>...</th>\n",
       "      <td>...</td>\n",
       "      <td>...</td>\n",
       "      <td>...</td>\n",
       "      <td>...</td>\n",
       "      <td>...</td>\n",
       "      <td>...</td>\n",
       "      <td>...</td>\n",
       "      <td>...</td>\n",
       "      <td>...</td>\n",
       "      <td>...</td>\n",
       "      <td>...</td>\n",
       "      <td>...</td>\n",
       "      <td>...</td>\n",
       "      <td>...</td>\n",
       "      <td>...</td>\n",
       "      <td>...</td>\n",
       "      <td>...</td>\n",
       "      <td>...</td>\n",
       "      <td>...</td>\n",
       "      <td>...</td>\n",
       "      <td>...</td>\n",
       "    </tr>\n",
       "    <tr>\n",
       "      <th>364</th>\n",
       "      <td>6880984506</td>\n",
       "      <td>161169141</td>\n",
       "      <td>0.272877</td>\n",
       "      <td>0.458754</td>\n",
       "      <td>0</td>\n",
       "      <td>893.600000</td>\n",
       "      <td>664.000000</td>\n",
       "      <td>0.250579</td>\n",
       "      <td>0</td>\n",
       "      <td>0</td>\n",
       "      <td>...</td>\n",
       "      <td>0</td>\n",
       "      <td>0</td>\n",
       "      <td>161169141</td>\n",
       "      <td>53.302940</td>\n",
       "      <td>61.295424</td>\n",
       "      <td>657.840718</td>\n",
       "      <td>924.055613</td>\n",
       "      <td>3.651013</td>\n",
       "      <td>4.366161</td>\n",
       "      <td>1</td>\n",
       "    </tr>\n",
       "    <tr>\n",
       "      <th>365</th>\n",
       "      <td>6880984511</td>\n",
       "      <td>235594146</td>\n",
       "      <td>0.203842</td>\n",
       "      <td>0.404950</td>\n",
       "      <td>0</td>\n",
       "      <td>630.650000</td>\n",
       "      <td>427.750000</td>\n",
       "      <td>0.168786</td>\n",
       "      <td>0</td>\n",
       "      <td>0</td>\n",
       "      <td>...</td>\n",
       "      <td>0</td>\n",
       "      <td>0</td>\n",
       "      <td>235594146</td>\n",
       "      <td>26.708293</td>\n",
       "      <td>71.947462</td>\n",
       "      <td>563.919819</td>\n",
       "      <td>648.868741</td>\n",
       "      <td>2.744700</td>\n",
       "      <td>3.906955</td>\n",
       "      <td>1</td>\n",
       "    </tr>\n",
       "    <tr>\n",
       "      <th>366</th>\n",
       "      <td>6880984601</td>\n",
       "      <td>209671511</td>\n",
       "      <td>0.237084</td>\n",
       "      <td>0.380958</td>\n",
       "      <td>0</td>\n",
       "      <td>865.900000</td>\n",
       "      <td>597.900000</td>\n",
       "      <td>0.269080</td>\n",
       "      <td>0</td>\n",
       "      <td>0</td>\n",
       "      <td>...</td>\n",
       "      <td>0</td>\n",
       "      <td>0</td>\n",
       "      <td>153377558</td>\n",
       "      <td>35.088362</td>\n",
       "      <td>120.921167</td>\n",
       "      <td>959.735814</td>\n",
       "      <td>741.999778</td>\n",
       "      <td>3.287065</td>\n",
       "      <td>5.779463</td>\n",
       "      <td>0</td>\n",
       "    </tr>\n",
       "    <tr>\n",
       "      <th>368</th>\n",
       "      <td>6880984916</td>\n",
       "      <td>1114033184</td>\n",
       "      <td>0.197599</td>\n",
       "      <td>0.370387</td>\n",
       "      <td>0</td>\n",
       "      <td>630.842105</td>\n",
       "      <td>506.105263</td>\n",
       "      <td>0.209541</td>\n",
       "      <td>0</td>\n",
       "      <td>0</td>\n",
       "      <td>...</td>\n",
       "      <td>0</td>\n",
       "      <td>0</td>\n",
       "      <td>101716222</td>\n",
       "      <td>85.488497</td>\n",
       "      <td>154.664881</td>\n",
       "      <td>631.551852</td>\n",
       "      <td>767.719287</td>\n",
       "      <td>4.694824</td>\n",
       "      <td>6.190445</td>\n",
       "      <td>0</td>\n",
       "    </tr>\n",
       "    <tr>\n",
       "      <th>369</th>\n",
       "      <td>6880985009</td>\n",
       "      <td>117925975</td>\n",
       "      <td>0.201856</td>\n",
       "      <td>0.365959</td>\n",
       "      <td>0</td>\n",
       "      <td>716.150000</td>\n",
       "      <td>527.800000</td>\n",
       "      <td>0.272968</td>\n",
       "      <td>0</td>\n",
       "      <td>0</td>\n",
       "      <td>...</td>\n",
       "      <td>0</td>\n",
       "      <td>0</td>\n",
       "      <td>107105970</td>\n",
       "      <td>93.268036</td>\n",
       "      <td>22.746422</td>\n",
       "      <td>622.324533</td>\n",
       "      <td>568.280185</td>\n",
       "      <td>5.156807</td>\n",
       "      <td>2.555457</td>\n",
       "      <td>0</td>\n",
       "    </tr>\n",
       "  </tbody>\n",
       "</table>\n",
       "<p>338 rows × 27 columns</p>\n",
       "</div>"
      ],
      "text/plain": [
       "       match_id      player  player_deaths_per_min  player_assists_per_min  \\\n",
       "0    6880924214   153110997               0.335188                0.187333   \n",
       "1    6880924314   118839691               0.200999                0.364690   \n",
       "2    6880924403   124272893               0.195932                0.436385   \n",
       "3    6880924409   147428574               0.285012                0.483784   \n",
       "4    6880924612   208034581               0.124555                0.242047   \n",
       "..          ...         ...                    ...                     ...   \n",
       "364  6880984506   161169141               0.272877                0.458754   \n",
       "365  6880984511   235594146               0.203842                0.404950   \n",
       "366  6880984601   209671511               0.237084                0.380958   \n",
       "368  6880984916  1114033184               0.197599                0.370387   \n",
       "369  6880985009   117925975               0.201856                0.365959   \n",
       "\n",
       "     player_tower_damage  player_xp_per_min  player_gold_per_min  \\\n",
       "0                      0         503.150000           385.550000   \n",
       "1                      0         561.550000           419.950000   \n",
       "2                      0        1261.550000           917.300000   \n",
       "3                      0        1062.947368           836.947368   \n",
       "4                      0         590.950000           449.250000   \n",
       "..                   ...                ...                  ...   \n",
       "364                    0         893.600000           664.000000   \n",
       "365                    0         630.650000           427.750000   \n",
       "366                    0         865.900000           597.900000   \n",
       "368                    0         630.842105           506.105263   \n",
       "369                    0         716.150000           527.800000   \n",
       "\n",
       "     player_kills_per_min  player_roshans_killed  player_obs_placed  ...  \\\n",
       "0                0.122589                      0                  0  ...   \n",
       "1                0.173890                      0                  0  ...   \n",
       "2                0.338771                      0                  0  ...   \n",
       "3                0.281019                      0                  0  ...   \n",
       "4                0.147420                      0                  0  ...   \n",
       "..                    ...                    ...                ...  ...   \n",
       "364              0.250579                      0                  0  ...   \n",
       "365              0.168786                      0                  0  ...   \n",
       "366              0.269080                      0                  0  ...   \n",
       "368              0.209541                      0                  0  ...   \n",
       "369              0.272968                      0                  0  ...   \n",
       "\n",
       "     opponent_roshans_killed  opponent_obs_placed      winner  \\\n",
       "0                          0                    0  1121170451   \n",
       "1                          0                    0   437601765   \n",
       "2                          0                    0   233422854   \n",
       "3                          0                    0   292686154   \n",
       "4                          0                    0   140386828   \n",
       "..                       ...                  ...         ...   \n",
       "364                        0                    0   161169141   \n",
       "365                        0                    0   235594146   \n",
       "366                        0                    0   153377558   \n",
       "368                        0                    0   101716222   \n",
       "369                        0                    0   107105970   \n",
       "\n",
       "     player_tower_damage_per_min  opponent_tower_damage_per_min  \\\n",
       "0                      87.487301                     134.999055   \n",
       "1                      29.820544                      32.060741   \n",
       "2                      36.548082                      42.616946   \n",
       "3                      75.170211                      42.982709   \n",
       "4                      87.429535                      88.834284   \n",
       "..                           ...                            ...   \n",
       "364                    53.302940                      61.295424   \n",
       "365                    26.708293                      71.947462   \n",
       "366                    35.088362                     120.921167   \n",
       "368                    85.488497                     154.664881   \n",
       "369                    93.268036                      22.746422   \n",
       "\n",
       "     player_hero_damage_per_min  opponent_hero_damage_per_min  \\\n",
       "0                    523.412499                    682.043428   \n",
       "1                    567.566668                    332.453105   \n",
       "2                    849.969050                    757.211362   \n",
       "3                    930.582114                    464.727839   \n",
       "4                    442.886421                    749.092912   \n",
       "..                          ...                           ...   \n",
       "364                  657.840718                    924.055613   \n",
       "365                  563.919819                    648.868741   \n",
       "366                  959.735814                    741.999778   \n",
       "368                  631.551852                    767.719287   \n",
       "369                  622.324533                    568.280185   \n",
       "\n",
       "     player_last_hits_per_min  opponent_last_hits_per_min  player_win  \n",
       "0                    3.770177                    5.146437           0  \n",
       "1                    3.286680                    1.432901           0  \n",
       "2                    4.128932                    3.475098           0  \n",
       "3                    4.912842                    2.282288           0  \n",
       "4                    5.061386                    4.677286           0  \n",
       "..                        ...                         ...         ...  \n",
       "364                  3.651013                    4.366161           1  \n",
       "365                  2.744700                    3.906955           1  \n",
       "366                  3.287065                    5.779463           0  \n",
       "368                  4.694824                    6.190445           0  \n",
       "369                  5.156807                    2.555457           0  \n",
       "\n",
       "[338 rows x 27 columns]"
      ]
     },
     "execution_count": 3,
     "metadata": {},
     "output_type": "execute_result"
    }
   ],
   "source": [
    "df_clean = clean_player_pairs_data()\n",
    "df_clean"
   ]
  },
  {
   "cell_type": "code",
   "execution_count": 5,
   "metadata": {},
   "outputs": [
    {
     "name": "stderr",
     "output_type": "stream",
     "text": [
      "/home/maebee/code/maebeexo/1039_esports/1039_esports/matches_clean.py:63: SettingWithCopyWarning: \n",
      "A value is trying to be set on a copy of a slice from a DataFrame.\n",
      "Try using .loc[row_indexer,col_indexer] = value instead\n",
      "\n",
      "See the caveats in the documentation: https://pandas.pydata.org/pandas-docs/stable/user_guide/indexing.html#returning-a-view-versus-a-copy\n",
      "  df_clean['player_win'] = np.where(df_clean[\"player\"] == df_clean[\"winner\"], 1, 0)\n"
     ]
    }
   ],
   "source": [
    "X_train, X_test, y_train, y_test = train_test_split_data()\n",
    "X_test, X_val, y_test, y_val = train_test_split(X_test, y_test, test_size=0.5, random_state=42)"
   ]
  },
  {
   "cell_type": "code",
   "execution_count": 6,
   "metadata": {},
   "outputs": [],
   "source": [
    "xgb = XGBRegressor(max_depth=10, n_estimators=50, learning_rate=0.1)"
   ]
  },
  {
   "cell_type": "code",
   "execution_count": 7,
   "metadata": {},
   "outputs": [
    {
     "name": "stderr",
     "output_type": "stream",
     "text": [
      "/home/maebee/.pyenv/versions/lewagon/lib/python3.8/site-packages/xgboost/data.py:262: FutureWarning: pandas.Int64Index is deprecated and will be removed from pandas in a future version. Use pandas.Index with the appropriate dtype instead.\n",
      "  elif isinstance(data.columns, (pd.Int64Index, pd.RangeIndex)):\n"
     ]
    },
    {
     "data": {
      "text/html": [
       "<style>#sk-container-id-1 {color: black;background-color: white;}#sk-container-id-1 pre{padding: 0;}#sk-container-id-1 div.sk-toggleable {background-color: white;}#sk-container-id-1 label.sk-toggleable__label {cursor: pointer;display: block;width: 100%;margin-bottom: 0;padding: 0.3em;box-sizing: border-box;text-align: center;}#sk-container-id-1 label.sk-toggleable__label-arrow:before {content: \"▸\";float: left;margin-right: 0.25em;color: #696969;}#sk-container-id-1 label.sk-toggleable__label-arrow:hover:before {color: black;}#sk-container-id-1 div.sk-estimator:hover label.sk-toggleable__label-arrow:before {color: black;}#sk-container-id-1 div.sk-toggleable__content {max-height: 0;max-width: 0;overflow: hidden;text-align: left;background-color: #f0f8ff;}#sk-container-id-1 div.sk-toggleable__content pre {margin: 0.2em;color: black;border-radius: 0.25em;background-color: #f0f8ff;}#sk-container-id-1 input.sk-toggleable__control:checked~div.sk-toggleable__content {max-height: 200px;max-width: 100%;overflow: auto;}#sk-container-id-1 input.sk-toggleable__control:checked~label.sk-toggleable__label-arrow:before {content: \"▾\";}#sk-container-id-1 div.sk-estimator input.sk-toggleable__control:checked~label.sk-toggleable__label {background-color: #d4ebff;}#sk-container-id-1 div.sk-label input.sk-toggleable__control:checked~label.sk-toggleable__label {background-color: #d4ebff;}#sk-container-id-1 input.sk-hidden--visually {border: 0;clip: rect(1px 1px 1px 1px);clip: rect(1px, 1px, 1px, 1px);height: 1px;margin: -1px;overflow: hidden;padding: 0;position: absolute;width: 1px;}#sk-container-id-1 div.sk-estimator {font-family: monospace;background-color: #f0f8ff;border: 1px dotted black;border-radius: 0.25em;box-sizing: border-box;margin-bottom: 0.5em;}#sk-container-id-1 div.sk-estimator:hover {background-color: #d4ebff;}#sk-container-id-1 div.sk-parallel-item::after {content: \"\";width: 100%;border-bottom: 1px solid gray;flex-grow: 1;}#sk-container-id-1 div.sk-label:hover label.sk-toggleable__label {background-color: #d4ebff;}#sk-container-id-1 div.sk-serial::before {content: \"\";position: absolute;border-left: 1px solid gray;box-sizing: border-box;top: 0;bottom: 0;left: 50%;z-index: 0;}#sk-container-id-1 div.sk-serial {display: flex;flex-direction: column;align-items: center;background-color: white;padding-right: 0.2em;padding-left: 0.2em;position: relative;}#sk-container-id-1 div.sk-item {position: relative;z-index: 1;}#sk-container-id-1 div.sk-parallel {display: flex;align-items: stretch;justify-content: center;background-color: white;position: relative;}#sk-container-id-1 div.sk-item::before, #sk-container-id-1 div.sk-parallel-item::before {content: \"\";position: absolute;border-left: 1px solid gray;box-sizing: border-box;top: 0;bottom: 0;left: 50%;z-index: -1;}#sk-container-id-1 div.sk-parallel-item {display: flex;flex-direction: column;z-index: 1;position: relative;background-color: white;}#sk-container-id-1 div.sk-parallel-item:first-child::after {align-self: flex-end;width: 50%;}#sk-container-id-1 div.sk-parallel-item:last-child::after {align-self: flex-start;width: 50%;}#sk-container-id-1 div.sk-parallel-item:only-child::after {width: 0;}#sk-container-id-1 div.sk-dashed-wrapped {border: 1px dashed gray;margin: 0 0.4em 0.5em 0.4em;box-sizing: border-box;padding-bottom: 0.4em;background-color: white;}#sk-container-id-1 div.sk-label label {font-family: monospace;font-weight: bold;display: inline-block;line-height: 1.2em;}#sk-container-id-1 div.sk-label-container {text-align: center;}#sk-container-id-1 div.sk-container {/* jupyter's `normalize.less` sets `[hidden] { display: none; }` but bootstrap.min.css set `[hidden] { display: none !important; }` so we also need the `!important` here to be able to override the default hidden behavior on the sphinx rendered scikit-learn.org. See: https://github.com/scikit-learn/scikit-learn/issues/21755 */display: inline-block !important;position: relative;}#sk-container-id-1 div.sk-text-repr-fallback {display: none;}</style><div id=\"sk-container-id-1\" class=\"sk-top-container\"><div class=\"sk-text-repr-fallback\"><pre>XGBRegressor(base_score=0.5, booster=&#x27;gbtree&#x27;, colsample_bylevel=1,\n",
       "             colsample_bynode=1, colsample_bytree=1, enable_categorical=False,\n",
       "             gamma=0, gpu_id=-1, importance_type=None,\n",
       "             interaction_constraints=&#x27;&#x27;, learning_rate=0.1, max_delta_step=0,\n",
       "             max_depth=10, min_child_weight=1, missing=nan,\n",
       "             monotone_constraints=&#x27;()&#x27;, n_estimators=50, n_jobs=16,\n",
       "             num_parallel_tree=1, predictor=&#x27;auto&#x27;, random_state=0, reg_alpha=0,\n",
       "             reg_lambda=1, scale_pos_weight=1, subsample=1, tree_method=&#x27;exact&#x27;,\n",
       "             validate_parameters=1, verbosity=None)</pre><b>In a Jupyter environment, please rerun this cell to show the HTML representation or trust the notebook. <br />On GitHub, the HTML representation is unable to render, please try loading this page with nbviewer.org.</b></div><div class=\"sk-container\" hidden><div class=\"sk-item\"><div class=\"sk-estimator sk-toggleable\"><input class=\"sk-toggleable__control sk-hidden--visually\" id=\"sk-estimator-id-1\" type=\"checkbox\" checked><label for=\"sk-estimator-id-1\" class=\"sk-toggleable__label sk-toggleable__label-arrow\">XGBRegressor</label><div class=\"sk-toggleable__content\"><pre>XGBRegressor(base_score=0.5, booster=&#x27;gbtree&#x27;, colsample_bylevel=1,\n",
       "             colsample_bynode=1, colsample_bytree=1, enable_categorical=False,\n",
       "             gamma=0, gpu_id=-1, importance_type=None,\n",
       "             interaction_constraints=&#x27;&#x27;, learning_rate=0.1, max_delta_step=0,\n",
       "             max_depth=10, min_child_weight=1, missing=nan,\n",
       "             monotone_constraints=&#x27;()&#x27;, n_estimators=50, n_jobs=16,\n",
       "             num_parallel_tree=1, predictor=&#x27;auto&#x27;, random_state=0, reg_alpha=0,\n",
       "             reg_lambda=1, scale_pos_weight=1, subsample=1, tree_method=&#x27;exact&#x27;,\n",
       "             validate_parameters=1, verbosity=None)</pre></div></div></div></div></div>"
      ],
      "text/plain": [
       "XGBRegressor(base_score=0.5, booster='gbtree', colsample_bylevel=1,\n",
       "             colsample_bynode=1, colsample_bytree=1, enable_categorical=False,\n",
       "             gamma=0, gpu_id=-1, importance_type=None,\n",
       "             interaction_constraints='', learning_rate=0.1, max_delta_step=0,\n",
       "             max_depth=10, min_child_weight=1, missing=nan,\n",
       "             monotone_constraints='()', n_estimators=50, n_jobs=16,\n",
       "             num_parallel_tree=1, predictor='auto', random_state=0, reg_alpha=0,\n",
       "             reg_lambda=1, scale_pos_weight=1, subsample=1, tree_method='exact',\n",
       "             validate_parameters=1, verbosity=None)"
      ]
     },
     "execution_count": 7,
     "metadata": {},
     "output_type": "execute_result"
    }
   ],
   "source": [
    "xgb.fit(X_train, y_train,\n",
    "        verbose=False,\n",
    "        eval_set=[(X_train, y_train), (X_val, y_val)],\n",
    "        eval_metric=['rmse'],\n",
    "        early_stopping_rounds=10)"
   ]
  },
  {
   "cell_type": "code",
   "execution_count": 8,
   "metadata": {},
   "outputs": [
    {
     "data": {
      "text/plain": [
       "0.138016"
      ]
     },
     "execution_count": 8,
     "metadata": {},
     "output_type": "execute_result"
    }
   ],
   "source": [
    "results = xgb.evals_result()\n",
    "min(results['validation_0']['rmse'])"
   ]
  },
  {
   "cell_type": "code",
   "execution_count": 15,
   "metadata": {},
   "outputs": [
    {
     "data": {
      "text/plain": [
       "Text(0.5, 1.0, 'XGBoost')"
      ]
     },
     "execution_count": 15,
     "metadata": {},
     "output_type": "execute_result"
    },
    {
     "data": {
      "image/png": "[encoded data removed]",
      "text/plain": [
       "<Figure size 432x288 with 1 Axes>"
      ]
     },
     "metadata": {
      "needs_background": "light"
     },
     "output_type": "display_data"
    }
   ],
   "source": [
    "epochs = len(results['validation_0'][\"rmse\"])\n",
    "x_axis = range(0, epochs)\n",
    "\n",
    "fig, ax = plt.subplots()\n",
    "ax.plot(x_axis, results['validation_0']['rmse'], label='Train')\n",
    "ax.plot(x_axis, results['validation_1']['rmse'], label='Val')\n",
    "ax.legend(); plt.ylabel('RMSE'); plt.title('XGBoost')"
   ]
  },
  {
   "cell_type": "code",
   "execution_count": 10,
   "metadata": {},
   "outputs": [],
   "source": [
    "gb_model = GradientBoostingRegressor(max_depth=10, n_estimators=100, learning_rate=0.1)"
   ]
  },
  {
   "cell_type": "code",
   "execution_count": 18,
   "metadata": {},
   "outputs": [
    {
     "data": {
      "text/html": [
       "<style>#sk-container-id-2 {color: black;background-color: white;}#sk-container-id-2 pre{padding: 0;}#sk-container-id-2 div.sk-toggleable {background-color: white;}#sk-container-id-2 label.sk-toggleable__label {cursor: pointer;display: block;width: 100%;margin-bottom: 0;padding: 0.3em;box-sizing: border-box;text-align: center;}#sk-container-id-2 label.sk-toggleable__label-arrow:before {content: \"▸\";float: left;margin-right: 0.25em;color: #696969;}#sk-container-id-2 label.sk-toggleable__label-arrow:hover:before {color: black;}#sk-container-id-2 div.sk-estimator:hover label.sk-toggleable__label-arrow:before {color: black;}#sk-container-id-2 div.sk-toggleable__content {max-height: 0;max-width: 0;overflow: hidden;text-align: left;background-color: #f0f8ff;}#sk-container-id-2 div.sk-toggleable__content pre {margin: 0.2em;color: black;border-radius: 0.25em;background-color: #f0f8ff;}#sk-container-id-2 input.sk-toggleable__control:checked~div.sk-toggleable__content {max-height: 200px;max-width: 100%;overflow: auto;}#sk-container-id-2 input.sk-toggleable__control:checked~label.sk-toggleable__label-arrow:before {content: \"▾\";}#sk-container-id-2 div.sk-estimator input.sk-toggleable__control:checked~label.sk-toggleable__label {background-color: #d4ebff;}#sk-container-id-2 div.sk-label input.sk-toggleable__control:checked~label.sk-toggleable__label {background-color: #d4ebff;}#sk-container-id-2 input.sk-hidden--visually {border: 0;clip: rect(1px 1px 1px 1px);clip: rect(1px, 1px, 1px, 1px);height: 1px;margin: -1px;overflow: hidden;padding: 0;position: absolute;width: 1px;}#sk-container-id-2 div.sk-estimator {font-family: monospace;background-color: #f0f8ff;border: 1px dotted black;border-radius: 0.25em;box-sizing: border-box;margin-bottom: 0.5em;}#sk-container-id-2 div.sk-estimator:hover {background-color: #d4ebff;}#sk-container-id-2 div.sk-parallel-item::after {content: \"\";width: 100%;border-bottom: 1px solid gray;flex-grow: 1;}#sk-container-id-2 div.sk-label:hover label.sk-toggleable__label {background-color: #d4ebff;}#sk-container-id-2 div.sk-serial::before {content: \"\";position: absolute;border-left: 1px solid gray;box-sizing: border-box;top: 0;bottom: 0;left: 50%;z-index: 0;}#sk-container-id-2 div.sk-serial {display: flex;flex-direction: column;align-items: center;background-color: white;padding-right: 0.2em;padding-left: 0.2em;position: relative;}#sk-container-id-2 div.sk-item {position: relative;z-index: 1;}#sk-container-id-2 div.sk-parallel {display: flex;align-items: stretch;justify-content: center;background-color: white;position: relative;}#sk-container-id-2 div.sk-item::before, #sk-container-id-2 div.sk-parallel-item::before {content: \"\";position: absolute;border-left: 1px solid gray;box-sizing: border-box;top: 0;bottom: 0;left: 50%;z-index: -1;}#sk-container-id-2 div.sk-parallel-item {display: flex;flex-direction: column;z-index: 1;position: relative;background-color: white;}#sk-container-id-2 div.sk-parallel-item:first-child::after {align-self: flex-end;width: 50%;}#sk-container-id-2 div.sk-parallel-item:last-child::after {align-self: flex-start;width: 50%;}#sk-container-id-2 div.sk-parallel-item:only-child::after {width: 0;}#sk-container-id-2 div.sk-dashed-wrapped {border: 1px dashed gray;margin: 0 0.4em 0.5em 0.4em;box-sizing: border-box;padding-bottom: 0.4em;background-color: white;}#sk-container-id-2 div.sk-label label {font-family: monospace;font-weight: bold;display: inline-block;line-height: 1.2em;}#sk-container-id-2 div.sk-label-container {text-align: center;}#sk-container-id-2 div.sk-container {/* jupyter's `normalize.less` sets `[hidden] { display: none; }` but bootstrap.min.css set `[hidden] { display: none !important; }` so we also need the `!important` here to be able to override the default hidden behavior on the sphinx rendered scikit-learn.org. See: https://github.com/scikit-learn/scikit-learn/issues/21755 */display: inline-block !important;position: relative;}#sk-container-id-2 div.sk-text-repr-fallback {display: none;}</style><div id=\"sk-container-id-2\" class=\"sk-top-container\"><div class=\"sk-text-repr-fallback\"><pre>GradientBoostingRegressor(max_depth=10)</pre><b>In a Jupyter environment, please rerun this cell to show the HTML representation or trust the notebook. <br />On GitHub, the HTML representation is unable to render, please try loading this page with nbviewer.org.</b></div><div class=\"sk-container\" hidden><div class=\"sk-item\"><div class=\"sk-estimator sk-toggleable\"><input class=\"sk-toggleable__control sk-hidden--visually\" id=\"sk-estimator-id-2\" type=\"checkbox\" checked><label for=\"sk-estimator-id-2\" class=\"sk-toggleable__label sk-toggleable__label-arrow\">GradientBoostingRegressor</label><div class=\"sk-toggleable__content\"><pre>GradientBoostingRegressor(max_depth=10)</pre></div></div></div></div></div>"
      ],
      "text/plain": [
       "GradientBoostingRegressor(max_depth=10)"
      ]
     },
     "execution_count": 18,
     "metadata": {},
     "output_type": "execute_result"
    }
   ],
   "source": [
    "gb_model.fit(X_train, y_train)"
   ]
  },
  {
   "cell_type": "code",
   "execution_count": 19,
   "metadata": {},
   "outputs": [
    {
     "data": {
      "text/plain": [
       "0.138016"
      ]
     },
     "execution_count": 19,
     "metadata": {},
     "output_type": "execute_result"
    }
   ],
   "source": [
    "results_gb = xgb.evals_result()\n",
    "min(results_gb['validation_0']['rmse'])"
   ]
  },
  {
   "cell_type": "code",
   "execution_count": 22,
   "metadata": {},
   "outputs": [
    {
     "data": {
      "image/png": "[encoded data removed]",
      "text/plain": [
       "<Figure size 432x288 with 1 Axes>"
      ]
     },
     "metadata": {
      "needs_background": "light"
     },
     "output_type": "display_data"
    }
   ],
   "source": [
    "epochs_gb = len(results['validation_0'][\"rmse\"])\n",
    "x_axis_gb = range(0, epochs_gb)\n",
    "\n",
    "fig, ax = plt.subplots()\n",
    "ax.plot(x_axis_gb, results['validation_0']['rmse'], label='Train')\n",
    "ax.plot(x_axis_gb, results['validation_1']['rmse'], label='Val')\n",
    "ax.legend(); plt.ylabel('RMSE'); plt.title('Gradient Boost');"
   ]
  },
  {
   "cell_type": "code",
   "execution_count": null,
   "metadata": {},
   "outputs": [],
   "source": []
  }
 ],
 "metadata": {
  "kernelspec": {
   "display_name": "Python 3.8.12 64-bit ('shims')",
   "language": "python",
   "name": "python3"
  },
  "language_info": {
   "codemirror_mode": {
    "name": "ipython",
    "version": 3
   },
   "file_extension": ".py",
   "mimetype": "text/x-python",
   "name": "python",
   "nbconvert_exporter": "python",
   "pygments_lexer": "ipython3",
   "version": "3.8.12"
  },
  "orig_nbformat": 4,
  "vscode": {
   "interpreter": {
    "hash": "fd498f36827ce95281e2f959e9eb418ce4c42147d2fcb517ba54b004c75bf673"
   }
  }
 },
 "nbformat": 4,
 "nbformat_minor": 2
}
